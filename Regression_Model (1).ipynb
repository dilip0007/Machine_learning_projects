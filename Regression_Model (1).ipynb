{
 "cells": [
  {
   "cell_type": "code",
   "execution_count": 52,
   "metadata": {},
   "outputs": [
    {
     "name": "stderr",
     "output_type": "stream",
     "text": [
      "UsageError: Line magic function `%` not found.\n"
     ]
    }
   ],
   "source": [
    "# to handle datasets\n",
    "import pandas as pd\n",
    "import numpy as np\n",
    "\n",
    "# for text / string processing\n",
    "import re\n",
    "\n",
    "# for plotting\n",
    "import matplotlib.pyplot as plt\n",
    "% matplotlib inline\n",
    "\n",
    "# to divide train and test set\n",
    "from sklearn.model_selection import train_test_split\n",
    "\n",
    "# feature scaling\n",
    "from sklearn.preprocessing import MinMaxScaler\n",
    "\n",
    "# for tree binarisation\n",
    "from sklearn.tree import DecisionTreeClassifier\n",
    "from sklearn.model_selection import cross_val_score\n",
    "\n",
    "\n",
    "# to build the models\n",
    "from sklearn.linear_model import LogisticRegression\n",
    "from sklearn.ensemble import AdaBoostClassifier\n",
    "from sklearn.ensemble import RandomForestClassifier\n",
    "import xgboost as xgb\n",
    "\n",
    "# to evaluate the models\n",
    "from sklearn.metrics import roc_auc_score\n",
    "from sklearn import metrics\n",
    "\n",
    "pd.pandas.set_option('display.max_columns', None)\n",
    "\n",
    "import warnings\n",
    "warnings.filterwarnings('ignore')"
   ]
  },
  {
   "cell_type": "code",
   "execution_count": 53,
   "metadata": {},
   "outputs": [],
   "source": [
    "import os\n",
    "os.chdir('C:\\\\Users\\Dell\\Downloads\\datascience')"
   ]
  },
  {
   "cell_type": "code",
   "execution_count": 54,
   "metadata": {},
   "outputs": [
    {
     "data": {
      "text/plain": [
       "'C:\\\\Users\\\\Dell\\\\Downloads\\\\datascience'"
      ]
     },
     "execution_count": 54,
     "metadata": {},
     "output_type": "execute_result"
    }
   ],
   "source": [
    "os.getcwd()"
   ]
  },
  {
   "cell_type": "code",
   "execution_count": 55,
   "metadata": {},
   "outputs": [],
   "source": [
    "data=pd.read_csv('train.csv')"
   ]
  },
  {
   "cell_type": "code",
   "execution_count": 56,
   "metadata": {},
   "outputs": [
    {
     "name": "stdout",
     "output_type": "stream",
     "text": [
      "<bound method NDFrame.head of         Id  MSSubClass MSZoning  LotFrontage  LotArea Street Alley LotShape  \\\n",
      "0        1          60       RL         65.0     8450   Pave   NaN      Reg   \n",
      "1        2          20       RL         80.0     9600   Pave   NaN      Reg   \n",
      "2        3          60       RL         68.0    11250   Pave   NaN      IR1   \n",
      "3        4          70       RL         60.0     9550   Pave   NaN      IR1   \n",
      "4        5          60       RL         84.0    14260   Pave   NaN      IR1   \n",
      "5        6          50       RL         85.0    14115   Pave   NaN      IR1   \n",
      "6        7          20       RL         75.0    10084   Pave   NaN      Reg   \n",
      "7        8          60       RL          NaN    10382   Pave   NaN      IR1   \n",
      "8        9          50       RM         51.0     6120   Pave   NaN      Reg   \n",
      "9       10         190       RL         50.0     7420   Pave   NaN      Reg   \n",
      "10      11          20       RL         70.0    11200   Pave   NaN      Reg   \n",
      "11      12          60       RL         85.0    11924   Pave   NaN      IR1   \n",
      "12      13          20       RL          NaN    12968   Pave   NaN      IR2   \n",
      "13      14          20       RL         91.0    10652   Pave   NaN      IR1   \n",
      "14      15          20       RL          NaN    10920   Pave   NaN      IR1   \n",
      "15      16          45       RM         51.0     6120   Pave   NaN      Reg   \n",
      "16      17          20       RL          NaN    11241   Pave   NaN      IR1   \n",
      "17      18          90       RL         72.0    10791   Pave   NaN      Reg   \n",
      "18      19          20       RL         66.0    13695   Pave   NaN      Reg   \n",
      "19      20          20       RL         70.0     7560   Pave   NaN      Reg   \n",
      "20      21          60       RL        101.0    14215   Pave   NaN      IR1   \n",
      "21      22          45       RM         57.0     7449   Pave  Grvl      Reg   \n",
      "22      23          20       RL         75.0     9742   Pave   NaN      Reg   \n",
      "23      24         120       RM         44.0     4224   Pave   NaN      Reg   \n",
      "24      25          20       RL          NaN     8246   Pave   NaN      IR1   \n",
      "25      26          20       RL        110.0    14230   Pave   NaN      Reg   \n",
      "26      27          20       RL         60.0     7200   Pave   NaN      Reg   \n",
      "27      28          20       RL         98.0    11478   Pave   NaN      Reg   \n",
      "28      29          20       RL         47.0    16321   Pave   NaN      IR1   \n",
      "29      30          30       RM         60.0     6324   Pave   NaN      IR1   \n",
      "...    ...         ...      ...          ...      ...    ...   ...      ...   \n",
      "1430  1431          60       RL         60.0    21930   Pave   NaN      IR3   \n",
      "1431  1432         120       RL          NaN     4928   Pave   NaN      IR1   \n",
      "1432  1433          30       RL         60.0    10800   Pave  Grvl      Reg   \n",
      "1433  1434          60       RL         93.0    10261   Pave   NaN      IR1   \n",
      "1434  1435          20       RL         80.0    17400   Pave   NaN      Reg   \n",
      "1435  1436          20       RL         80.0     8400   Pave   NaN      Reg   \n",
      "1436  1437          20       RL         60.0     9000   Pave   NaN      Reg   \n",
      "1437  1438          20       RL         96.0    12444   Pave   NaN      Reg   \n",
      "1438  1439          20       RM         90.0     7407   Pave   NaN      Reg   \n",
      "1439  1440          60       RL         80.0    11584   Pave   NaN      Reg   \n",
      "1440  1441          70       RL         79.0    11526   Pave   NaN      IR1   \n",
      "1441  1442         120       RM          NaN     4426   Pave   NaN      Reg   \n",
      "1442  1443          60       FV         85.0    11003   Pave   NaN      Reg   \n",
      "1443  1444          30       RL          NaN     8854   Pave   NaN      Reg   \n",
      "1444  1445          20       RL         63.0     8500   Pave   NaN      Reg   \n",
      "1445  1446          85       RL         70.0     8400   Pave   NaN      Reg   \n",
      "1446  1447          20       RL          NaN    26142   Pave   NaN      IR1   \n",
      "1447  1448          60       RL         80.0    10000   Pave   NaN      Reg   \n",
      "1448  1449          50       RL         70.0    11767   Pave   NaN      Reg   \n",
      "1449  1450         180       RM         21.0     1533   Pave   NaN      Reg   \n",
      "1450  1451          90       RL         60.0     9000   Pave   NaN      Reg   \n",
      "1451  1452          20       RL         78.0     9262   Pave   NaN      Reg   \n",
      "1452  1453         180       RM         35.0     3675   Pave   NaN      Reg   \n",
      "1453  1454          20       RL         90.0    17217   Pave   NaN      Reg   \n",
      "1454  1455          20       FV         62.0     7500   Pave  Pave      Reg   \n",
      "1455  1456          60       RL         62.0     7917   Pave   NaN      Reg   \n",
      "1456  1457          20       RL         85.0    13175   Pave   NaN      Reg   \n",
      "1457  1458          70       RL         66.0     9042   Pave   NaN      Reg   \n",
      "1458  1459          20       RL         68.0     9717   Pave   NaN      Reg   \n",
      "1459  1460          20       RL         75.0     9937   Pave   NaN      Reg   \n",
      "\n",
      "     LandContour Utilities  ... PoolArea PoolQC  Fence MiscFeature MiscVal  \\\n",
      "0            Lvl    AllPub  ...        0    NaN    NaN         NaN       0   \n",
      "1            Lvl    AllPub  ...        0    NaN    NaN         NaN       0   \n",
      "2            Lvl    AllPub  ...        0    NaN    NaN         NaN       0   \n",
      "3            Lvl    AllPub  ...        0    NaN    NaN         NaN       0   \n",
      "4            Lvl    AllPub  ...        0    NaN    NaN         NaN       0   \n",
      "5            Lvl    AllPub  ...        0    NaN  MnPrv        Shed     700   \n",
      "6            Lvl    AllPub  ...        0    NaN    NaN         NaN       0   \n",
      "7            Lvl    AllPub  ...        0    NaN    NaN        Shed     350   \n",
      "8            Lvl    AllPub  ...        0    NaN    NaN         NaN       0   \n",
      "9            Lvl    AllPub  ...        0    NaN    NaN         NaN       0   \n",
      "10           Lvl    AllPub  ...        0    NaN    NaN         NaN       0   \n",
      "11           Lvl    AllPub  ...        0    NaN    NaN         NaN       0   \n",
      "12           Lvl    AllPub  ...        0    NaN    NaN         NaN       0   \n",
      "13           Lvl    AllPub  ...        0    NaN    NaN         NaN       0   \n",
      "14           Lvl    AllPub  ...        0    NaN   GdWo         NaN       0   \n",
      "15           Lvl    AllPub  ...        0    NaN  GdPrv         NaN       0   \n",
      "16           Lvl    AllPub  ...        0    NaN    NaN        Shed     700   \n",
      "17           Lvl    AllPub  ...        0    NaN    NaN        Shed     500   \n",
      "18           Lvl    AllPub  ...        0    NaN    NaN         NaN       0   \n",
      "19           Lvl    AllPub  ...        0    NaN  MnPrv         NaN       0   \n",
      "20           Lvl    AllPub  ...        0    NaN    NaN         NaN       0   \n",
      "21           Bnk    AllPub  ...        0    NaN  GdPrv         NaN       0   \n",
      "22           Lvl    AllPub  ...        0    NaN    NaN         NaN       0   \n",
      "23           Lvl    AllPub  ...        0    NaN    NaN         NaN       0   \n",
      "24           Lvl    AllPub  ...        0    NaN  MnPrv         NaN       0   \n",
      "25           Lvl    AllPub  ...        0    NaN    NaN         NaN       0   \n",
      "26           Lvl    AllPub  ...        0    NaN    NaN         NaN       0   \n",
      "27           Lvl    AllPub  ...        0    NaN    NaN         NaN       0   \n",
      "28           Lvl    AllPub  ...        0    NaN    NaN         NaN       0   \n",
      "29           Lvl    AllPub  ...        0    NaN    NaN         NaN       0   \n",
      "...          ...       ...  ...      ...    ...    ...         ...     ...   \n",
      "1430         Lvl    AllPub  ...        0    NaN    NaN         NaN       0   \n",
      "1431         Lvl    AllPub  ...        0    NaN    NaN         NaN       0   \n",
      "1432         Lvl    AllPub  ...        0    NaN    NaN         NaN       0   \n",
      "1433         Lvl    AllPub  ...        0    NaN    NaN         NaN       0   \n",
      "1434         Low    AllPub  ...        0    NaN    NaN         NaN       0   \n",
      "1435         Lvl    AllPub  ...        0    NaN  GdPrv         NaN       0   \n",
      "1436         Lvl    AllPub  ...        0    NaN   GdWo         NaN       0   \n",
      "1437         Lvl    AllPub  ...        0    NaN    NaN         NaN       0   \n",
      "1438         Lvl    AllPub  ...        0    NaN  MnPrv         NaN       0   \n",
      "1439         Lvl    AllPub  ...        0    NaN    NaN         NaN       0   \n",
      "1440         Bnk    AllPub  ...        0    NaN    NaN         NaN       0   \n",
      "1441         Lvl    AllPub  ...        0    NaN    NaN         NaN       0   \n",
      "1442         Lvl    AllPub  ...        0    NaN    NaN         NaN       0   \n",
      "1443         Lvl    AllPub  ...        0    NaN    NaN         NaN       0   \n",
      "1444         Lvl    AllPub  ...        0    NaN    NaN         NaN       0   \n",
      "1445         Lvl    AllPub  ...        0    NaN    NaN         NaN       0   \n",
      "1446         Lvl    AllPub  ...        0    NaN    NaN         NaN       0   \n",
      "1447         Lvl    AllPub  ...        0    NaN    NaN         NaN       0   \n",
      "1448         Lvl    AllPub  ...        0    NaN   GdWo         NaN       0   \n",
      "1449         Lvl    AllPub  ...        0    NaN    NaN         NaN       0   \n",
      "1450         Lvl    AllPub  ...        0    NaN    NaN         NaN       0   \n",
      "1451         Lvl    AllPub  ...        0    NaN    NaN         NaN       0   \n",
      "1452         Lvl    AllPub  ...        0    NaN    NaN         NaN       0   \n",
      "1453         Lvl    AllPub  ...        0    NaN    NaN         NaN       0   \n",
      "1454         Lvl    AllPub  ...        0    NaN    NaN         NaN       0   \n",
      "1455         Lvl    AllPub  ...        0    NaN    NaN         NaN       0   \n",
      "1456         Lvl    AllPub  ...        0    NaN  MnPrv         NaN       0   \n",
      "1457         Lvl    AllPub  ...        0    NaN  GdPrv        Shed    2500   \n",
      "1458         Lvl    AllPub  ...        0    NaN    NaN         NaN       0   \n",
      "1459         Lvl    AllPub  ...        0    NaN    NaN         NaN       0   \n",
      "\n",
      "     MoSold YrSold  SaleType  SaleCondition  SalePrice  \n",
      "0         2   2008        WD         Normal     208500  \n",
      "1         5   2007        WD         Normal     181500  \n",
      "2         9   2008        WD         Normal     223500  \n",
      "3         2   2006        WD        Abnorml     140000  \n",
      "4        12   2008        WD         Normal     250000  \n",
      "5        10   2009        WD         Normal     143000  \n",
      "6         8   2007        WD         Normal     307000  \n",
      "7        11   2009        WD         Normal     200000  \n",
      "8         4   2008        WD        Abnorml     129900  \n",
      "9         1   2008        WD         Normal     118000  \n",
      "10        2   2008        WD         Normal     129500  \n",
      "11        7   2006       New        Partial     345000  \n",
      "12        9   2008        WD         Normal     144000  \n",
      "13        8   2007       New        Partial     279500  \n",
      "14        5   2008        WD         Normal     157000  \n",
      "15        7   2007        WD         Normal     132000  \n",
      "16        3   2010        WD         Normal     149000  \n",
      "17       10   2006        WD         Normal      90000  \n",
      "18        6   2008        WD         Normal     159000  \n",
      "19        5   2009       COD        Abnorml     139000  \n",
      "20       11   2006       New        Partial     325300  \n",
      "21        6   2007        WD         Normal     139400  \n",
      "22        9   2008        WD         Normal     230000  \n",
      "23        6   2007        WD         Normal     129900  \n",
      "24        5   2010        WD         Normal     154000  \n",
      "25        7   2009        WD         Normal     256300  \n",
      "26        5   2010        WD         Normal     134800  \n",
      "27        5   2010        WD         Normal     306000  \n",
      "28       12   2006        WD         Normal     207500  \n",
      "29        5   2008        WD         Normal      68500  \n",
      "...     ...    ...       ...            ...        ...  \n",
      "1430      7   2006        WD         Normal     192140  \n",
      "1431     10   2009        WD         Normal     143750  \n",
      "1432      8   2007        WD         Normal      64500  \n",
      "1433      5   2008        WD         Normal     186500  \n",
      "1434      5   2006        WD         Normal     160000  \n",
      "1435      7   2008       COD        Abnorml     174000  \n",
      "1436      5   2007        WD         Normal     120500  \n",
      "1437     11   2008       New        Partial     394617  \n",
      "1438      4   2010        WD         Normal     149700  \n",
      "1439     11   2007        WD         Normal     197000  \n",
      "1440      9   2008        WD         Normal     191000  \n",
      "1441      5   2008        WD         Normal     149300  \n",
      "1442      4   2009        WD         Normal     310000  \n",
      "1443      5   2009        WD         Normal     121000  \n",
      "1444     11   2007        WD         Normal     179600  \n",
      "1445      5   2007        WD         Normal     129000  \n",
      "1446      4   2010        WD         Normal     157900  \n",
      "1447     12   2007        WD         Normal     240000  \n",
      "1448      5   2007        WD         Normal     112000  \n",
      "1449      8   2006        WD        Abnorml      92000  \n",
      "1450      9   2009        WD         Normal     136000  \n",
      "1451      5   2009       New        Partial     287090  \n",
      "1452      5   2006        WD         Normal     145000  \n",
      "1453      7   2006        WD        Abnorml      84500  \n",
      "1454     10   2009        WD         Normal     185000  \n",
      "1455      8   2007        WD         Normal     175000  \n",
      "1456      2   2010        WD         Normal     210000  \n",
      "1457      5   2010        WD         Normal     266500  \n",
      "1458      4   2010        WD         Normal     142125  \n",
      "1459      6   2008        WD         Normal     147500  \n",
      "\n",
      "[1460 rows x 81 columns]>\n"
     ]
    },
    {
     "data": {
      "text/plain": [
       "(1460, 81)"
      ]
     },
     "execution_count": 56,
     "metadata": {},
     "output_type": "execute_result"
    }
   ],
   "source": [
    "print(data.head)\n",
    "data.shape"
   ]
  },
  {
   "cell_type": "code",
   "execution_count": 57,
   "metadata": {},
   "outputs": [
    {
     "data": {
      "text/plain": [
       "Index(['Id', 'MSSubClass', 'MSZoning', 'LotFrontage', 'LotArea', 'Street',\n",
       "       'Alley', 'LotShape', 'LandContour', 'Utilities', 'LotConfig',\n",
       "       'LandSlope', 'Neighborhood', 'Condition1', 'Condition2', 'BldgType',\n",
       "       'HouseStyle', 'OverallQual', 'OverallCond', 'YearBuilt', 'YearRemodAdd',\n",
       "       'RoofStyle', 'RoofMatl', 'Exterior1st', 'Exterior2nd', 'MasVnrType',\n",
       "       'MasVnrArea', 'ExterQual', 'ExterCond', 'Foundation', 'BsmtQual',\n",
       "       'BsmtCond', 'BsmtExposure', 'BsmtFinType1', 'BsmtFinSF1',\n",
       "       'BsmtFinType2', 'BsmtFinSF2', 'BsmtUnfSF', 'TotalBsmtSF', 'Heating',\n",
       "       'HeatingQC', 'CentralAir', 'Electrical', '1stFlrSF', '2ndFlrSF',\n",
       "       'LowQualFinSF', 'GrLivArea', 'BsmtFullBath', 'BsmtHalfBath', 'FullBath',\n",
       "       'HalfBath', 'BedroomAbvGr', 'KitchenAbvGr', 'KitchenQual',\n",
       "       'TotRmsAbvGrd', 'Functional', 'Fireplaces', 'FireplaceQu', 'GarageType',\n",
       "       'GarageYrBlt', 'GarageFinish', 'GarageCars', 'GarageArea', 'GarageQual',\n",
       "       'GarageCond', 'PavedDrive', 'WoodDeckSF', 'OpenPorchSF',\n",
       "       'EnclosedPorch', '3SsnPorch', 'ScreenPorch', 'PoolArea', 'PoolQC',\n",
       "       'Fence', 'MiscFeature', 'MiscVal', 'MoSold', 'YrSold', 'SaleType',\n",
       "       'SaleCondition', 'SalePrice'],\n",
       "      dtype='object')"
      ]
     },
     "execution_count": 57,
     "metadata": {},
     "output_type": "execute_result"
    }
   ],
   "source": [
    "data.columns"
   ]
  },
  {
   "cell_type": "code",
   "execution_count": 58,
   "metadata": {},
   "outputs": [
    {
     "data": {
      "text/plain": [
       "Id                 int64\n",
       "MSSubClass         int64\n",
       "MSZoning          object\n",
       "LotFrontage      float64\n",
       "LotArea            int64\n",
       "Street            object\n",
       "Alley             object\n",
       "LotShape          object\n",
       "LandContour       object\n",
       "Utilities         object\n",
       "LotConfig         object\n",
       "LandSlope         object\n",
       "Neighborhood      object\n",
       "Condition1        object\n",
       "Condition2        object\n",
       "BldgType          object\n",
       "HouseStyle        object\n",
       "OverallQual        int64\n",
       "OverallCond        int64\n",
       "YearBuilt          int64\n",
       "YearRemodAdd       int64\n",
       "RoofStyle         object\n",
       "RoofMatl          object\n",
       "Exterior1st       object\n",
       "Exterior2nd       object\n",
       "MasVnrType        object\n",
       "MasVnrArea       float64\n",
       "ExterQual         object\n",
       "ExterCond         object\n",
       "Foundation        object\n",
       "                  ...   \n",
       "BedroomAbvGr       int64\n",
       "KitchenAbvGr       int64\n",
       "KitchenQual       object\n",
       "TotRmsAbvGrd       int64\n",
       "Functional        object\n",
       "Fireplaces         int64\n",
       "FireplaceQu       object\n",
       "GarageType        object\n",
       "GarageYrBlt      float64\n",
       "GarageFinish      object\n",
       "GarageCars         int64\n",
       "GarageArea         int64\n",
       "GarageQual        object\n",
       "GarageCond        object\n",
       "PavedDrive        object\n",
       "WoodDeckSF         int64\n",
       "OpenPorchSF        int64\n",
       "EnclosedPorch      int64\n",
       "3SsnPorch          int64\n",
       "ScreenPorch        int64\n",
       "PoolArea           int64\n",
       "PoolQC            object\n",
       "Fence             object\n",
       "MiscFeature       object\n",
       "MiscVal            int64\n",
       "MoSold             int64\n",
       "YrSold             int64\n",
       "SaleType          object\n",
       "SaleCondition     object\n",
       "SalePrice          int64\n",
       "Length: 81, dtype: object"
      ]
     },
     "execution_count": 58,
     "metadata": {},
     "output_type": "execute_result"
    }
   ],
   "source": [
    "data.dtypes"
   ]
  },
  {
   "cell_type": "code",
   "execution_count": 59,
   "metadata": {},
   "outputs": [
    {
     "name": "stdout",
     "output_type": "stream",
     "text": [
      "MSZoning\n",
      "Street\n",
      "Alley\n",
      "LotShape\n",
      "LandContour\n",
      "Utilities\n",
      "LotConfig\n",
      "LandSlope\n",
      "Neighborhood\n",
      "Condition1\n",
      "Condition2\n",
      "BldgType\n",
      "HouseStyle\n",
      "RoofStyle\n",
      "RoofMatl\n",
      "Exterior1st\n",
      "Exterior2nd\n",
      "MasVnrType\n",
      "ExterQual\n",
      "ExterCond\n",
      "Foundation\n",
      "BsmtQual\n",
      "BsmtCond\n",
      "BsmtExposure\n",
      "BsmtFinType1\n",
      "BsmtFinType2\n",
      "Heating\n",
      "HeatingQC\n",
      "CentralAir\n",
      "Electrical\n",
      "KitchenQual\n",
      "Functional\n",
      "FireplaceQu\n",
      "GarageType\n",
      "GarageFinish\n",
      "GarageQual\n",
      "GarageCond\n",
      "PavedDrive\n",
      "PoolQC\n",
      "Fence\n",
      "MiscFeature\n",
      "SaleType\n",
      "SaleCondition\n"
     ]
    }
   ],
   "source": [
    "cata=[]\n",
    "for var in data.columns:\n",
    "    if data[var].dtype == 'O':\n",
    "       print (var)\n",
    "       cata.append(var)\n"
   ]
  },
  {
   "cell_type": "code",
   "execution_count": 60,
   "metadata": {},
   "outputs": [],
   "source": [
    "numerical=[var for var in data.columns if data[var].dtypes!='O']"
   ]
  },
  {
   "cell_type": "code",
   "execution_count": 61,
   "metadata": {},
   "outputs": [
    {
     "name": "stdout",
     "output_type": "stream",
     "text": [
      "there are total 43 catagorical values\n",
      "there are total 38 catagorical values\n"
     ]
    }
   ],
   "source": [
    "print('there are total {} catagorical values'.format(len(cata)))\n",
    "\n",
    "print('there are total {} catagorical values'.format(len(numerical)))"
   ]
  },
  {
   "cell_type": "code",
   "execution_count": 62,
   "metadata": {},
   "outputs": [],
   "source": [
    " discrete= [var for var in numerical if len(data[var].unique())<20]"
   ]
  },
  {
   "cell_type": "code",
   "execution_count": 63,
   "metadata": {},
   "outputs": [
    {
     "name": "stdout",
     "output_type": "stream",
     "text": [
      "MSSubClass [ 60  20  70  50 190  45  90 120  30  85  80 160  75 180  40]\n",
      "OverallQual [ 7  6  8  5  9  4 10  3  1  2]\n",
      "OverallCond [5 8 6 7 4 2 3 9 1]\n",
      "BsmtFullBath [1 0 2 3]\n",
      "BsmtHalfBath [0 1 2]\n",
      "FullBath [2 1 3 0]\n",
      "HalfBath [1 0 2]\n",
      "BedroomAbvGr [3 4 1 2 0 5 6 8]\n",
      "KitchenAbvGr [1 2 3 0]\n",
      "TotRmsAbvGrd [ 8  6  7  9  5 11  4 10 12  3  2 14]\n",
      "Fireplaces [0 1 2 3]\n",
      "GarageCars [2 3 1 0 4]\n",
      "PoolArea [  0 512 648 576 555 480 519 738]\n",
      "MoSold [ 2  5  9 12 10  8 11  4  1  7  3  6]\n",
      "YrSold [2008 2007 2006 2009 2010]\n"
     ]
    }
   ],
   "source": [
    "for var in discrete:\n",
    "    print(var,data[var].unique())"
   ]
  },
  {
   "cell_type": "code",
   "execution_count": 64,
   "metadata": {},
   "outputs": [
    {
     "name": "stdout",
     "output_type": "stream",
     "text": [
      "LotFrontage 0.1773972602739726\n",
      "Alley 0.9376712328767123\n",
      "MasVnrType 0.005479452054794521\n",
      "MasVnrArea 0.005479452054794521\n",
      "BsmtQual 0.025342465753424658\n",
      "BsmtCond 0.025342465753424658\n",
      "BsmtExposure 0.026027397260273973\n",
      "BsmtFinType1 0.025342465753424658\n",
      "BsmtFinType2 0.026027397260273973\n",
      "Electrical 0.0006849315068493151\n",
      "FireplaceQu 0.4726027397260274\n",
      "GarageType 0.05547945205479452\n",
      "GarageYrBlt 0.05547945205479452\n",
      "GarageFinish 0.05547945205479452\n",
      "GarageQual 0.05547945205479452\n",
      "GarageCond 0.05547945205479452\n",
      "PoolQC 0.9952054794520548\n",
      "Fence 0.8075342465753425\n",
      "MiscFeature 0.963013698630137\n"
     ]
    }
   ],
   "source": [
    "#missing values\n",
    "for var in data.columns:\n",
    "    if data[var].isnull().sum()>0:\n",
    "        print(var , data[var].isnull().mean())\n",
    "    "
   ]
  },
  {
   "cell_type": "code",
   "execution_count": 65,
   "metadata": {},
   "outputs": [
    {
     "name": "stdout",
     "output_type": "stream",
     "text": [
      "Alley [nan 'Grvl' 'Pave']\n",
      "PoolQC [nan 'Ex' 'Fa' 'Gd']\n",
      "Fence [nan 'MnPrv' 'GdWo' 'GdPrv' 'MnWw']\n",
      "MiscFeature [nan 'Shed' 'Gar2' 'Othr' 'TenC']\n"
     ]
    }
   ],
   "source": [
    "#lots of missing values\n",
    "for var in data.columns:\n",
    "    if data[var].isnull().mean()>0.80:\n",
    "        print(var , data[var].unique())\n",
    "    \n"
   ]
  },
  {
   "cell_type": "code",
   "execution_count": 66,
   "metadata": {},
   "outputs": [
    {
     "data": {
      "text/plain": [
       "['LotFrontage',\n",
       " 'LotArea',\n",
       " 'YearBuilt',\n",
       " 'YearRemodAdd',\n",
       " 'MasVnrArea',\n",
       " 'BsmtFinSF1',\n",
       " 'BsmtFinSF2',\n",
       " 'BsmtUnfSF',\n",
       " 'TotalBsmtSF',\n",
       " '1stFlrSF',\n",
       " '2ndFlrSF',\n",
       " 'LowQualFinSF',\n",
       " 'GrLivArea',\n",
       " 'GarageYrBlt',\n",
       " 'GarageArea',\n",
       " 'WoodDeckSF',\n",
       " 'OpenPorchSF',\n",
       " 'EnclosedPorch',\n",
       " '3SsnPorch',\n",
       " 'ScreenPorch',\n",
       " 'MiscVal']"
      ]
     },
     "execution_count": 66,
     "metadata": {},
     "output_type": "execute_result"
    }
   ],
   "source": [
    "continuos=[var for var in numerical if var not in discrete and var not in ['Id', 'SalePrice']]\n",
    "continuos"
   ]
  },
  {
   "cell_type": "code",
   "execution_count": 67,
   "metadata": {
    "scrolled": true
   },
   "outputs": [
    {
     "data": {
      "image/png": "[encoded data removed]",
      "text/plain": [
       "<Figure size 1080x432 with 2 Axes>"
      ]
     },
     "metadata": {
      "needs_background": "light"
     },
     "output_type": "display_data"
    },
    {
     "data": {
      "image/png": "[encoded data removed]",
      "text/plain": [
       "<Figure size 1080x432 with 2 Axes>"
      ]
     },
     "metadata": {
      "needs_background": "light"
     },
     "output_type": "display_data"
    },
    {
     "data": {
      "image/png": "[encoded data removed]",
      "text/plain": [
       "<Figure size 1080x432 with 2 Axes>"
      ]
     },
     "metadata": {
      "needs_background": "light"
     },
     "output_type": "display_data"
    },
    {
     "data": {
      "image/png": "[encoded data removed]",
      "text/plain": [
       "<Figure size 1080x432 with 2 Axes>"
      ]
     },
     "metadata": {
      "needs_background": "light"
     },
     "output_type": "display_data"
    },
    {
     "data": {
      "image/png": "[encoded data removed]",
      "text/plain": [
       "<Figure size 1080x432 with 2 Axes>"
      ]
     },
     "metadata": {
      "needs_background": "light"
     },
     "output_type": "display_data"
    },
    {
     "data": {
      "image/png": "[encoded data removed]",
      "text/plain": [
       "<Figure size 1080x432 with 2 Axes>"
      ]
     },
     "metadata": {
      "needs_background": "light"
     },
     "output_type": "display_data"
    },
    {
     "data": {
      "image/png": "[encoded data removed]",
      "text/plain": [
       "<Figure size 1080x432 with 2 Axes>"
      ]
     },
     "metadata": {
      "needs_background": "light"
     },
     "output_type": "display_data"
    },
    {
     "data": {
      "image/png": "[encoded data removed]",
      "text/plain": [
       "<Figure size 1080x432 with 2 Axes>"
      ]
     },
     "metadata": {
      "needs_background": "light"
     },
     "output_type": "display_data"
    },
    {
     "data": {
      "image/png": "[encoded data removed]",
      "text/plain": [
       "<Figure size 1080x432 with 2 Axes>"
      ]
     },
     "metadata": {
      "needs_background": "light"
     },
     "output_type": "display_data"
    },
    {
     "data": {
      "image/png": "[encoded data removed]",
      "text/plain": [
       "<Figure size 1080x432 with 2 Axes>"
      ]
     },
     "metadata": {
      "needs_background": "light"
     },
     "output_type": "display_data"
    },
    {
     "data": {
      "image/png": "[encoded data removed]",
      "text/plain": [
       "<Figure size 1080x432 with 2 Axes>"
      ]
     },
     "metadata": {
      "needs_background": "light"
     },
     "output_type": "display_data"
    },
    {
     "data": {
      "image/png": "[encoded data removed]",
      "text/plain": [
       "<Figure size 1080x432 with 2 Axes>"
      ]
     },
     "metadata": {
      "needs_background": "light"
     },
     "output_type": "display_data"
    },
    {
     "data": {
      "image/png": "[encoded data removed]",
      "text/plain": [
       "<Figure size 1080x432 with 2 Axes>"
      ]
     },
     "metadata": {
      "needs_background": "light"
     },
     "output_type": "display_data"
    },
    {
     "data": {
      "image/png": "[encoded data removed]",
      "text/plain": [
       "<Figure size 1080x432 with 2 Axes>"
      ]
     },
     "metadata": {
      "needs_background": "light"
     },
     "output_type": "display_data"
    },
    {
     "data": {
      "image/png": "[encoded data removed]",
      "text/plain": [
       "<Figure size 1080x432 with 2 Axes>"
      ]
     },
     "metadata": {
      "needs_background": "light"
     },
     "output_type": "display_data"
    },
    {
     "data": {
      "image/png": "[encoded data removed]",
      "text/plain": [
       "<Figure size 1080x432 with 2 Axes>"
      ]
     },
     "metadata": {
      "needs_background": "light"
     },
     "output_type": "display_data"
    },
    {
     "data": {
      "image/png": "[encoded data removed]",
      "text/plain": [
       "<Figure size 1080x432 with 2 Axes>"
      ]
     },
     "metadata": {
      "needs_background": "light"
     },
     "output_type": "display_data"
    },
    {
     "data": {
      "image/png": "[encoded data removed]",
      "text/plain": [
       "<Figure size 1080x432 with 2 Axes>"
      ]
     },
     "metadata": {
      "needs_background": "light"
     },
     "output_type": "display_data"
    },
    {
     "data": {
      "image/png": "[encoded data removed]",
      "text/plain": [
       "<Figure size 1080x432 with 2 Axes>"
      ]
     },
     "metadata": {
      "needs_background": "light"
     },
     "output_type": "display_data"
    },
    {
     "data": {
      "image/png": "[encoded data removed]",
      "text/plain": [
       "<Figure size 1080x432 with 2 Axes>"
      ]
     },
     "metadata": {
      "needs_background": "light"
     },
     "output_type": "display_data"
    },
    {
     "data": {
      "image/png": "[encoded data removed]",
      "text/plain": [
       "<Figure size 1080x432 with 2 Axes>"
      ]
     },
     "metadata": {
      "needs_background": "light"
     },
     "output_type": "display_data"
    }
   ],
   "source": [
    "for var in continuos:\n",
    "    plt.figure(figsize=(15,6))\n",
    "    plt.subplot(1, 2, 1)\n",
    "    fig = data.boxplot(column=var)\n",
    "    fig.set_title('')\n",
    "    fig.set_ylabel(var)\n",
    "    \n",
    "    plt.subplot(1, 2, 2)\n",
    "    fig = data[var].hist(bins=20)\n",
    "    fig.set_ylabel('Number of houses')\n",
    "    fig.set_xlabel(var)\n",
    "\n",
    "    plt.show()"
   ]
  },
  {
   "cell_type": "code",
   "execution_count": 68,
   "metadata": {},
   "outputs": [
    {
     "name": "stdout",
     "output_type": "stream",
     "text": [
      "20     0.367123\n",
      "60     0.204795\n",
      "50     0.098630\n",
      "120    0.059589\n",
      "30     0.047260\n",
      "160    0.043151\n",
      "70     0.041096\n",
      "80     0.039726\n",
      "90     0.035616\n",
      "190    0.020548\n",
      "85     0.013699\n",
      "75     0.010959\n",
      "45     0.008219\n",
      "180    0.006849\n",
      "40     0.002740\n",
      "Name: MSSubClass, dtype: float64\n",
      "5     0.271918\n",
      "6     0.256164\n",
      "7     0.218493\n",
      "8     0.115068\n",
      "4     0.079452\n",
      "9     0.029452\n",
      "3     0.013699\n",
      "10    0.012329\n",
      "2     0.002055\n",
      "1     0.001370\n",
      "Name: OverallQual, dtype: float64\n",
      "5    0.562329\n",
      "6    0.172603\n",
      "7    0.140411\n",
      "8    0.049315\n",
      "4    0.039041\n",
      "3    0.017123\n",
      "9    0.015068\n",
      "2    0.003425\n",
      "1    0.000685\n",
      "Name: OverallCond, dtype: float64\n",
      "0    0.586301\n",
      "1    0.402740\n",
      "2    0.010274\n",
      "3    0.000685\n",
      "Name: BsmtFullBath, dtype: float64\n",
      "0    0.943836\n",
      "1    0.054795\n",
      "2    0.001370\n",
      "Name: BsmtHalfBath, dtype: float64\n",
      "2    0.526027\n",
      "1    0.445205\n",
      "3    0.022603\n",
      "0    0.006164\n",
      "Name: FullBath, dtype: float64\n",
      "0    0.625342\n",
      "1    0.366438\n",
      "2    0.008219\n",
      "Name: HalfBath, dtype: float64\n",
      "3    0.550685\n",
      "2    0.245205\n",
      "4    0.145890\n",
      "1    0.034247\n",
      "5    0.014384\n",
      "6    0.004795\n",
      "0    0.004110\n",
      "8    0.000685\n",
      "Name: BedroomAbvGr, dtype: float64\n",
      "1    0.953425\n",
      "2    0.044521\n",
      "3    0.001370\n",
      "0    0.000685\n",
      "Name: KitchenAbvGr, dtype: float64\n",
      "6     0.275342\n",
      "7     0.225342\n",
      "5     0.188356\n",
      "8     0.128082\n",
      "4     0.066438\n",
      "9     0.051370\n",
      "10    0.032192\n",
      "11    0.012329\n",
      "3     0.011644\n",
      "12    0.007534\n",
      "14    0.000685\n",
      "2     0.000685\n",
      "Name: TotRmsAbvGrd, dtype: float64\n",
      "0    0.472603\n",
      "1    0.445205\n",
      "2    0.078767\n",
      "3    0.003425\n",
      "Name: Fireplaces, dtype: float64\n",
      "2    0.564384\n",
      "1    0.252740\n",
      "3    0.123973\n",
      "0    0.055479\n",
      "4    0.003425\n",
      "Name: GarageCars, dtype: float64\n",
      "0      0.995205\n",
      "738    0.000685\n",
      "648    0.000685\n",
      "576    0.000685\n",
      "555    0.000685\n",
      "519    0.000685\n",
      "512    0.000685\n",
      "480    0.000685\n",
      "Name: PoolArea, dtype: float64\n",
      "6     0.173288\n",
      "7     0.160274\n",
      "5     0.139726\n",
      "4     0.096575\n",
      "8     0.083562\n",
      "3     0.072603\n",
      "10    0.060959\n",
      "11    0.054110\n",
      "9     0.043151\n",
      "12    0.040411\n",
      "1     0.039726\n",
      "2     0.035616\n",
      "Name: MoSold, dtype: float64\n",
      "2009    0.231507\n",
      "2007    0.225342\n",
      "2006    0.215068\n",
      "2008    0.208219\n",
      "2010    0.119863\n",
      "Name: YrSold, dtype: float64\n"
     ]
    }
   ],
   "source": [
    "#outiers in discere varible\n",
    "\n",
    "for var in discrete:\n",
    "    print(data[var].value_counts()/np.float(len(data[var])))"
   ]
  },
  {
   "cell_type": "code",
   "execution_count": 69,
   "metadata": {},
   "outputs": [
    {
     "name": "stdout",
     "output_type": "stream",
     "text": [
      "MSZoning 5\n",
      "Street 2\n",
      "Alley 3\n",
      "LotShape 4\n",
      "LandContour 4\n",
      "Utilities 2\n",
      "LotConfig 5\n",
      "LandSlope 3\n",
      "Neighborhood 25\n",
      "Condition1 9\n",
      "Condition2 8\n",
      "BldgType 5\n",
      "HouseStyle 8\n",
      "RoofStyle 6\n",
      "RoofMatl 8\n",
      "Exterior1st 15\n",
      "Exterior2nd 16\n",
      "MasVnrType 5\n",
      "ExterQual 4\n",
      "ExterCond 5\n",
      "Foundation 6\n",
      "BsmtQual 5\n",
      "BsmtCond 5\n",
      "BsmtExposure 5\n",
      "BsmtFinType1 7\n",
      "BsmtFinType2 7\n",
      "Heating 6\n",
      "HeatingQC 5\n",
      "CentralAir 2\n",
      "Electrical 6\n",
      "KitchenQual 4\n",
      "Functional 7\n",
      "FireplaceQu 6\n",
      "GarageType 7\n",
      "GarageFinish 4\n",
      "GarageQual 6\n",
      "GarageCond 6\n",
      "PavedDrive 3\n",
      "PoolQC 4\n",
      "Fence 5\n",
      "MiscFeature 5\n",
      "SaleType 9\n",
      "SaleCondition 6\n"
     ]
    }
   ],
   "source": [
    "#number of cardinality in catagorical variable.\n",
    "for var in cata:\n",
    "    print(var,len(data[var].unique()))\n"
   ]
  },
  {
   "cell_type": "code",
   "execution_count": 201,
   "metadata": {},
   "outputs": [
    {
     "data": {
      "text/plain": [
       "((1168, 81), (292, 81), (1168,), (292,))"
      ]
     },
     "execution_count": 201,
     "metadata": {},
     "output_type": "execute_result"
    }
   ],
   "source": [
    "from sklearn.model_selection import train_test_split\n",
    "\n",
    "X_train, X_test, y_train, y_test = train_test_split(data, data.SalePrice, test_size=0.2,\n",
    "                                                    random_state=0)\n",
    "\n",
    "X_train.shape, X_test.shape,y_train.shape,y_test.shape"
   ]
  },
  {
   "cell_type": "code",
   "execution_count": 202,
   "metadata": {},
   "outputs": [
    {
     "name": "stdout",
     "output_type": "stream",
     "text": [
      "LotFrontage 0.1773972602739726\n",
      "MasVnrArea 0.005479452054794521\n",
      "GarageYrBlt 0.05547945205479452\n"
     ]
    }
   ],
   "source": [
    "#missing data in contineous\n",
    "for var in continuos:\n",
    "    if data[var].isnull().sum()>0:\n",
    "        print(var,data[var].isnull().mean())\n",
    "    "
   ]
  },
  {
   "cell_type": "code",
   "execution_count": 203,
   "metadata": {},
   "outputs": [
    {
     "name": "stderr",
     "output_type": "stream",
     "text": [
      "C:\\Users\\Dell\\Anaconda3\\lib\\site-packages\\ipykernel_launcher.py:4: SettingWithCopyWarning: \n",
      "A value is trying to be set on a copy of a slice from a DataFrame.\n",
      "Try using .loc[row_indexer,col_indexer] = value instead\n",
      "\n",
      "See the caveats in the documentation: http://pandas.pydata.org/pandas-docs/stable/indexing.html#indexing-view-versus-copy\n",
      "  after removing the cwd from sys.path.\n",
      "C:\\Users\\Dell\\Anaconda3\\lib\\site-packages\\pandas\\core\\generic.py:6130: SettingWithCopyWarning: \n",
      "A value is trying to be set on a copy of a slice from a DataFrame\n",
      "\n",
      "See the caveats in the documentation: http://pandas.pydata.org/pandas-docs/stable/indexing.html#indexing-view-versus-copy\n",
      "  self._update_inplace(new_data)\n"
     ]
    }
   ],
   "source": [
    "#filling missing data in coninous\n",
    "for df in [X_train, X_test]:\n",
    "    for var in ['LotFrontage', 'GarageYrBlt']:\n",
    "        df[var+'_NA'] = np.where(df[var].isnull(), 1, 0)\n",
    "        df[var].fillna(X_train[var].median(), inplace=True) "
   ]
  },
  {
   "cell_type": "code",
   "execution_count": 204,
   "metadata": {},
   "outputs": [],
   "source": [
    "for df in [X_train,X_test]:\n",
    "            df.MasVnrArea.fillna(df.MasVnrArea.mean(),inplace=True)\n",
    "    \n",
    "\n",
    "    "
   ]
  },
  {
   "cell_type": "code",
   "execution_count": 205,
   "metadata": {},
   "outputs": [],
   "source": [
    "#check missing data in discrere\n",
    "for df in [X_train,X_test]:\n",
    "    for var in discrete:\n",
    "        if df[var].isnull().sum()>0:\n",
    "                    print(df[var].isnull().sum())\n",
    "                \n",
    "#there are no missing data in discere"
   ]
  },
  {
   "cell_type": "code",
   "execution_count": 206,
   "metadata": {},
   "outputs": [
    {
     "name": "stdout",
     "output_type": "stream",
     "text": [
      "Alley 0.9392123287671232\n",
      "MasVnrType 0.005136986301369863\n",
      "BsmtQual 0.023972602739726026\n",
      "BsmtCond 0.023972602739726026\n",
      "BsmtExposure 0.023972602739726026\n",
      "BsmtFinType1 0.023972602739726026\n",
      "BsmtFinType2 0.02482876712328767\n",
      "Electrical 0.0008561643835616438\n",
      "FireplaceQu 0.4717465753424658\n",
      "GarageType 0.04965753424657534\n",
      "GarageFinish 0.04965753424657534\n",
      "GarageQual 0.04965753424657534\n",
      "GarageCond 0.04965753424657534\n",
      "PoolQC 0.9965753424657534\n",
      "Fence 0.8167808219178082\n",
      "MiscFeature 0.9580479452054794\n"
     ]
    }
   ],
   "source": [
    "#Missing Data in categorical variables \n",
    "for col in cata:\n",
    "    if X_train[col].isnull().mean()>0:\n",
    "        print(col, X_train[col].isnull().mean())"
   ]
  },
  {
   "cell_type": "code",
   "execution_count": 207,
   "metadata": {},
   "outputs": [],
   "source": [
    "# add label indicating 'Missing' to categorical variables\n",
    "\n",
    "for df in [X_train, X_test]:\n",
    "    for var in cata:\n",
    "        df[var].fillna('Missing', inplace=True)\n",
    "        "
   ]
  },
  {
   "cell_type": "code",
   "execution_count": 208,
   "metadata": {},
   "outputs": [],
   "source": [
    "#in order to tackle outliers and skewed distribution at the same time , we can do discretisation here , \n",
    "#And in order to find the optimal buckets automatically, I would use decision trees to find the buckets for me.\n",
    "#Discretisation is the process of transforming continuous variables into discrete variables by creating a set of contiguous intervals that span the range of variable values\n",
    "from sklearn.model_selection import cross_val_score\n",
    "\n",
    "def tree_binariser(var):\n",
    "    score_ls = [] # here I will store the mse\n",
    "\n",
    "    for tree_depth in [1,2,3,4]:\n",
    "        # call the model\n",
    "        tree_model = DecisionTreeRegressor(max_depth=tree_depth)\n",
    "\n",
    "        # train the model using 3 fold cross validation\n",
    "        scores = cross_val_score(tree_model, X_train[var].to_frame(), y_train, cv=3, scoring='neg_mean_squared_error')\n",
    "        score_ls.append(np.mean(scores))\n",
    "\n",
    "    # find depth with smallest mse\n",
    "    depth = [1,2,3,4][np.argmax(score_ls)]\n",
    "    #print(score_ls, np.argmax(score_ls), depth)\n",
    "\n",
    "    # transform the variable using the tree\n",
    "    tree_model = DecisionTreeRegressor(max_depth=depth)\n",
    "    tree_model.fit(X_train[var].to_frame(), X_train.SalePrice)\n",
    "    X_train[var] = tree_model.predict(X_train[var].to_frame())\n",
    "    X_test[var] = tree_model.predict(X_test[var].to_frame())"
   ]
  },
  {
   "cell_type": "code",
   "execution_count": 209,
   "metadata": {},
   "outputs": [
    {
     "name": "stderr",
     "output_type": "stream",
     "text": [
      "C:\\Users\\Dell\\Anaconda3\\lib\\site-packages\\ipykernel_launcher.py:24: SettingWithCopyWarning: \n",
      "A value is trying to be set on a copy of a slice from a DataFrame.\n",
      "Try using .loc[row_indexer,col_indexer] = value instead\n",
      "\n",
      "See the caveats in the documentation: http://pandas.pydata.org/pandas-docs/stable/indexing.html#indexing-view-versus-copy\n",
      "C:\\Users\\Dell\\Anaconda3\\lib\\site-packages\\ipykernel_launcher.py:25: SettingWithCopyWarning: \n",
      "A value is trying to be set on a copy of a slice from a DataFrame.\n",
      "Try using .loc[row_indexer,col_indexer] = value instead\n",
      "\n",
      "See the caveats in the documentation: http://pandas.pydata.org/pandas-docs/stable/indexing.html#indexing-view-versus-copy\n",
      "C:\\Users\\Dell\\Anaconda3\\lib\\site-packages\\ipykernel_launcher.py:24: SettingWithCopyWarning: \n",
      "A value is trying to be set on a copy of a slice from a DataFrame.\n",
      "Try using .loc[row_indexer,col_indexer] = value instead\n",
      "\n",
      "See the caveats in the documentation: http://pandas.pydata.org/pandas-docs/stable/indexing.html#indexing-view-versus-copy\n",
      "C:\\Users\\Dell\\Anaconda3\\lib\\site-packages\\ipykernel_launcher.py:25: SettingWithCopyWarning: \n",
      "A value is trying to be set on a copy of a slice from a DataFrame.\n",
      "Try using .loc[row_indexer,col_indexer] = value instead\n",
      "\n",
      "See the caveats in the documentation: http://pandas.pydata.org/pandas-docs/stable/indexing.html#indexing-view-versus-copy\n",
      "C:\\Users\\Dell\\Anaconda3\\lib\\site-packages\\ipykernel_launcher.py:24: SettingWithCopyWarning: \n",
      "A value is trying to be set on a copy of a slice from a DataFrame.\n",
      "Try using .loc[row_indexer,col_indexer] = value instead\n",
      "\n",
      "See the caveats in the documentation: http://pandas.pydata.org/pandas-docs/stable/indexing.html#indexing-view-versus-copy\n",
      "C:\\Users\\Dell\\Anaconda3\\lib\\site-packages\\ipykernel_launcher.py:25: SettingWithCopyWarning: \n",
      "A value is trying to be set on a copy of a slice from a DataFrame.\n",
      "Try using .loc[row_indexer,col_indexer] = value instead\n",
      "\n",
      "See the caveats in the documentation: http://pandas.pydata.org/pandas-docs/stable/indexing.html#indexing-view-versus-copy\n",
      "C:\\Users\\Dell\\Anaconda3\\lib\\site-packages\\ipykernel_launcher.py:24: SettingWithCopyWarning: \n",
      "A value is trying to be set on a copy of a slice from a DataFrame.\n",
      "Try using .loc[row_indexer,col_indexer] = value instead\n",
      "\n",
      "See the caveats in the documentation: http://pandas.pydata.org/pandas-docs/stable/indexing.html#indexing-view-versus-copy\n",
      "C:\\Users\\Dell\\Anaconda3\\lib\\site-packages\\ipykernel_launcher.py:25: SettingWithCopyWarning: \n",
      "A value is trying to be set on a copy of a slice from a DataFrame.\n",
      "Try using .loc[row_indexer,col_indexer] = value instead\n",
      "\n",
      "See the caveats in the documentation: http://pandas.pydata.org/pandas-docs/stable/indexing.html#indexing-view-versus-copy\n",
      "C:\\Users\\Dell\\Anaconda3\\lib\\site-packages\\ipykernel_launcher.py:24: SettingWithCopyWarning: \n",
      "A value is trying to be set on a copy of a slice from a DataFrame.\n",
      "Try using .loc[row_indexer,col_indexer] = value instead\n",
      "\n",
      "See the caveats in the documentation: http://pandas.pydata.org/pandas-docs/stable/indexing.html#indexing-view-versus-copy\n",
      "C:\\Users\\Dell\\Anaconda3\\lib\\site-packages\\ipykernel_launcher.py:25: SettingWithCopyWarning: \n",
      "A value is trying to be set on a copy of a slice from a DataFrame.\n",
      "Try using .loc[row_indexer,col_indexer] = value instead\n",
      "\n",
      "See the caveats in the documentation: http://pandas.pydata.org/pandas-docs/stable/indexing.html#indexing-view-versus-copy\n",
      "C:\\Users\\Dell\\Anaconda3\\lib\\site-packages\\ipykernel_launcher.py:24: SettingWithCopyWarning: \n",
      "A value is trying to be set on a copy of a slice from a DataFrame.\n",
      "Try using .loc[row_indexer,col_indexer] = value instead\n",
      "\n",
      "See the caveats in the documentation: http://pandas.pydata.org/pandas-docs/stable/indexing.html#indexing-view-versus-copy\n",
      "C:\\Users\\Dell\\Anaconda3\\lib\\site-packages\\ipykernel_launcher.py:25: SettingWithCopyWarning: \n",
      "A value is trying to be set on a copy of a slice from a DataFrame.\n",
      "Try using .loc[row_indexer,col_indexer] = value instead\n",
      "\n",
      "See the caveats in the documentation: http://pandas.pydata.org/pandas-docs/stable/indexing.html#indexing-view-versus-copy\n",
      "C:\\Users\\Dell\\Anaconda3\\lib\\site-packages\\ipykernel_launcher.py:24: SettingWithCopyWarning: \n",
      "A value is trying to be set on a copy of a slice from a DataFrame.\n",
      "Try using .loc[row_indexer,col_indexer] = value instead\n",
      "\n",
      "See the caveats in the documentation: http://pandas.pydata.org/pandas-docs/stable/indexing.html#indexing-view-versus-copy\n",
      "C:\\Users\\Dell\\Anaconda3\\lib\\site-packages\\ipykernel_launcher.py:25: SettingWithCopyWarning: \n",
      "A value is trying to be set on a copy of a slice from a DataFrame.\n",
      "Try using .loc[row_indexer,col_indexer] = value instead\n",
      "\n",
      "See the caveats in the documentation: http://pandas.pydata.org/pandas-docs/stable/indexing.html#indexing-view-versus-copy\n",
      "C:\\Users\\Dell\\Anaconda3\\lib\\site-packages\\ipykernel_launcher.py:24: SettingWithCopyWarning: \n",
      "A value is trying to be set on a copy of a slice from a DataFrame.\n",
      "Try using .loc[row_indexer,col_indexer] = value instead\n",
      "\n",
      "See the caveats in the documentation: http://pandas.pydata.org/pandas-docs/stable/indexing.html#indexing-view-versus-copy\n",
      "C:\\Users\\Dell\\Anaconda3\\lib\\site-packages\\ipykernel_launcher.py:25: SettingWithCopyWarning: \n",
      "A value is trying to be set on a copy of a slice from a DataFrame.\n",
      "Try using .loc[row_indexer,col_indexer] = value instead\n",
      "\n",
      "See the caveats in the documentation: http://pandas.pydata.org/pandas-docs/stable/indexing.html#indexing-view-versus-copy\n",
      "C:\\Users\\Dell\\Anaconda3\\lib\\site-packages\\ipykernel_launcher.py:24: SettingWithCopyWarning: \n",
      "A value is trying to be set on a copy of a slice from a DataFrame.\n",
      "Try using .loc[row_indexer,col_indexer] = value instead\n",
      "\n",
      "See the caveats in the documentation: http://pandas.pydata.org/pandas-docs/stable/indexing.html#indexing-view-versus-copy\n",
      "C:\\Users\\Dell\\Anaconda3\\lib\\site-packages\\ipykernel_launcher.py:25: SettingWithCopyWarning: \n",
      "A value is trying to be set on a copy of a slice from a DataFrame.\n",
      "Try using .loc[row_indexer,col_indexer] = value instead\n",
      "\n",
      "See the caveats in the documentation: http://pandas.pydata.org/pandas-docs/stable/indexing.html#indexing-view-versus-copy\n",
      "C:\\Users\\Dell\\Anaconda3\\lib\\site-packages\\ipykernel_launcher.py:24: SettingWithCopyWarning: \n",
      "A value is trying to be set on a copy of a slice from a DataFrame.\n",
      "Try using .loc[row_indexer,col_indexer] = value instead\n",
      "\n",
      "See the caveats in the documentation: http://pandas.pydata.org/pandas-docs/stable/indexing.html#indexing-view-versus-copy\n",
      "C:\\Users\\Dell\\Anaconda3\\lib\\site-packages\\ipykernel_launcher.py:25: SettingWithCopyWarning: \n",
      "A value is trying to be set on a copy of a slice from a DataFrame.\n",
      "Try using .loc[row_indexer,col_indexer] = value instead\n",
      "\n",
      "See the caveats in the documentation: http://pandas.pydata.org/pandas-docs/stable/indexing.html#indexing-view-versus-copy\n",
      "C:\\Users\\Dell\\Anaconda3\\lib\\site-packages\\ipykernel_launcher.py:24: SettingWithCopyWarning: \n",
      "A value is trying to be set on a copy of a slice from a DataFrame.\n",
      "Try using .loc[row_indexer,col_indexer] = value instead\n",
      "\n",
      "See the caveats in the documentation: http://pandas.pydata.org/pandas-docs/stable/indexing.html#indexing-view-versus-copy\n",
      "C:\\Users\\Dell\\Anaconda3\\lib\\site-packages\\ipykernel_launcher.py:25: SettingWithCopyWarning: \n",
      "A value is trying to be set on a copy of a slice from a DataFrame.\n",
      "Try using .loc[row_indexer,col_indexer] = value instead\n",
      "\n",
      "See the caveats in the documentation: http://pandas.pydata.org/pandas-docs/stable/indexing.html#indexing-view-versus-copy\n",
      "C:\\Users\\Dell\\Anaconda3\\lib\\site-packages\\ipykernel_launcher.py:24: SettingWithCopyWarning: \n",
      "A value is trying to be set on a copy of a slice from a DataFrame.\n",
      "Try using .loc[row_indexer,col_indexer] = value instead\n",
      "\n",
      "See the caveats in the documentation: http://pandas.pydata.org/pandas-docs/stable/indexing.html#indexing-view-versus-copy\n",
      "C:\\Users\\Dell\\Anaconda3\\lib\\site-packages\\ipykernel_launcher.py:25: SettingWithCopyWarning: \n",
      "A value is trying to be set on a copy of a slice from a DataFrame.\n",
      "Try using .loc[row_indexer,col_indexer] = value instead\n",
      "\n",
      "See the caveats in the documentation: http://pandas.pydata.org/pandas-docs/stable/indexing.html#indexing-view-versus-copy\n",
      "C:\\Users\\Dell\\Anaconda3\\lib\\site-packages\\ipykernel_launcher.py:24: SettingWithCopyWarning: \n",
      "A value is trying to be set on a copy of a slice from a DataFrame.\n",
      "Try using .loc[row_indexer,col_indexer] = value instead\n",
      "\n",
      "See the caveats in the documentation: http://pandas.pydata.org/pandas-docs/stable/indexing.html#indexing-view-versus-copy\n",
      "C:\\Users\\Dell\\Anaconda3\\lib\\site-packages\\ipykernel_launcher.py:25: SettingWithCopyWarning: \n",
      "A value is trying to be set on a copy of a slice from a DataFrame.\n",
      "Try using .loc[row_indexer,col_indexer] = value instead\n",
      "\n",
      "See the caveats in the documentation: http://pandas.pydata.org/pandas-docs/stable/indexing.html#indexing-view-versus-copy\n",
      "C:\\Users\\Dell\\Anaconda3\\lib\\site-packages\\ipykernel_launcher.py:24: SettingWithCopyWarning: \n",
      "A value is trying to be set on a copy of a slice from a DataFrame.\n",
      "Try using .loc[row_indexer,col_indexer] = value instead\n",
      "\n",
      "See the caveats in the documentation: http://pandas.pydata.org/pandas-docs/stable/indexing.html#indexing-view-versus-copy\n",
      "C:\\Users\\Dell\\Anaconda3\\lib\\site-packages\\ipykernel_launcher.py:25: SettingWithCopyWarning: \n",
      "A value is trying to be set on a copy of a slice from a DataFrame.\n",
      "Try using .loc[row_indexer,col_indexer] = value instead\n",
      "\n",
      "See the caveats in the documentation: http://pandas.pydata.org/pandas-docs/stable/indexing.html#indexing-view-versus-copy\n",
      "C:\\Users\\Dell\\Anaconda3\\lib\\site-packages\\ipykernel_launcher.py:24: SettingWithCopyWarning: \n",
      "A value is trying to be set on a copy of a slice from a DataFrame.\n",
      "Try using .loc[row_indexer,col_indexer] = value instead\n",
      "\n",
      "See the caveats in the documentation: http://pandas.pydata.org/pandas-docs/stable/indexing.html#indexing-view-versus-copy\n",
      "C:\\Users\\Dell\\Anaconda3\\lib\\site-packages\\ipykernel_launcher.py:25: SettingWithCopyWarning: \n",
      "A value is trying to be set on a copy of a slice from a DataFrame.\n",
      "Try using .loc[row_indexer,col_indexer] = value instead\n",
      "\n",
      "See the caveats in the documentation: http://pandas.pydata.org/pandas-docs/stable/indexing.html#indexing-view-versus-copy\n",
      "C:\\Users\\Dell\\Anaconda3\\lib\\site-packages\\ipykernel_launcher.py:24: SettingWithCopyWarning: \n",
      "A value is trying to be set on a copy of a slice from a DataFrame.\n",
      "Try using .loc[row_indexer,col_indexer] = value instead\n",
      "\n",
      "See the caveats in the documentation: http://pandas.pydata.org/pandas-docs/stable/indexing.html#indexing-view-versus-copy\n",
      "C:\\Users\\Dell\\Anaconda3\\lib\\site-packages\\ipykernel_launcher.py:25: SettingWithCopyWarning: \n",
      "A value is trying to be set on a copy of a slice from a DataFrame.\n",
      "Try using .loc[row_indexer,col_indexer] = value instead\n",
      "\n",
      "See the caveats in the documentation: http://pandas.pydata.org/pandas-docs/stable/indexing.html#indexing-view-versus-copy\n",
      "C:\\Users\\Dell\\Anaconda3\\lib\\site-packages\\ipykernel_launcher.py:24: SettingWithCopyWarning: \n",
      "A value is trying to be set on a copy of a slice from a DataFrame.\n",
      "Try using .loc[row_indexer,col_indexer] = value instead\n",
      "\n",
      "See the caveats in the documentation: http://pandas.pydata.org/pandas-docs/stable/indexing.html#indexing-view-versus-copy\n",
      "C:\\Users\\Dell\\Anaconda3\\lib\\site-packages\\ipykernel_launcher.py:25: SettingWithCopyWarning: \n",
      "A value is trying to be set on a copy of a slice from a DataFrame.\n",
      "Try using .loc[row_indexer,col_indexer] = value instead\n",
      "\n",
      "See the caveats in the documentation: http://pandas.pydata.org/pandas-docs/stable/indexing.html#indexing-view-versus-copy\n",
      "C:\\Users\\Dell\\Anaconda3\\lib\\site-packages\\ipykernel_launcher.py:24: SettingWithCopyWarning: \n",
      "A value is trying to be set on a copy of a slice from a DataFrame.\n",
      "Try using .loc[row_indexer,col_indexer] = value instead\n",
      "\n",
      "See the caveats in the documentation: http://pandas.pydata.org/pandas-docs/stable/indexing.html#indexing-view-versus-copy\n",
      "C:\\Users\\Dell\\Anaconda3\\lib\\site-packages\\ipykernel_launcher.py:25: SettingWithCopyWarning: \n",
      "A value is trying to be set on a copy of a slice from a DataFrame.\n",
      "Try using .loc[row_indexer,col_indexer] = value instead\n",
      "\n",
      "See the caveats in the documentation: http://pandas.pydata.org/pandas-docs/stable/indexing.html#indexing-view-versus-copy\n",
      "C:\\Users\\Dell\\Anaconda3\\lib\\site-packages\\ipykernel_launcher.py:24: SettingWithCopyWarning: \n",
      "A value is trying to be set on a copy of a slice from a DataFrame.\n",
      "Try using .loc[row_indexer,col_indexer] = value instead\n",
      "\n",
      "See the caveats in the documentation: http://pandas.pydata.org/pandas-docs/stable/indexing.html#indexing-view-versus-copy\n",
      "C:\\Users\\Dell\\Anaconda3\\lib\\site-packages\\ipykernel_launcher.py:25: SettingWithCopyWarning: \n",
      "A value is trying to be set on a copy of a slice from a DataFrame.\n",
      "Try using .loc[row_indexer,col_indexer] = value instead\n",
      "\n",
      "See the caveats in the documentation: http://pandas.pydata.org/pandas-docs/stable/indexing.html#indexing-view-versus-copy\n",
      "C:\\Users\\Dell\\Anaconda3\\lib\\site-packages\\ipykernel_launcher.py:24: SettingWithCopyWarning: \n",
      "A value is trying to be set on a copy of a slice from a DataFrame.\n",
      "Try using .loc[row_indexer,col_indexer] = value instead\n",
      "\n",
      "See the caveats in the documentation: http://pandas.pydata.org/pandas-docs/stable/indexing.html#indexing-view-versus-copy\n",
      "C:\\Users\\Dell\\Anaconda3\\lib\\site-packages\\ipykernel_launcher.py:25: SettingWithCopyWarning: \n",
      "A value is trying to be set on a copy of a slice from a DataFrame.\n",
      "Try using .loc[row_indexer,col_indexer] = value instead\n",
      "\n",
      "See the caveats in the documentation: http://pandas.pydata.org/pandas-docs/stable/indexing.html#indexing-view-versus-copy\n",
      "C:\\Users\\Dell\\Anaconda3\\lib\\site-packages\\ipykernel_launcher.py:24: SettingWithCopyWarning: \n",
      "A value is trying to be set on a copy of a slice from a DataFrame.\n",
      "Try using .loc[row_indexer,col_indexer] = value instead\n",
      "\n",
      "See the caveats in the documentation: http://pandas.pydata.org/pandas-docs/stable/indexing.html#indexing-view-versus-copy\n",
      "C:\\Users\\Dell\\Anaconda3\\lib\\site-packages\\ipykernel_launcher.py:25: SettingWithCopyWarning: \n",
      "A value is trying to be set on a copy of a slice from a DataFrame.\n",
      "Try using .loc[row_indexer,col_indexer] = value instead\n",
      "\n",
      "See the caveats in the documentation: http://pandas.pydata.org/pandas-docs/stable/indexing.html#indexing-view-versus-copy\n"
     ]
    }
   ],
   "source": [
    "from sklearn.tree import DecisionTreeRegressor\n",
    "for var in continuos:\n",
    "    tree_binariser(var)"
   ]
  },
  {
   "cell_type": "code",
   "execution_count": 210,
   "metadata": {},
   "outputs": [],
   "source": [
    "continuos1=df.copy(continuos)"
   ]
  },
  {
   "cell_type": "code",
   "execution_count": 211,
   "metadata": {},
   "outputs": [
    {
     "data": {
      "text/plain": [
       "21"
      ]
     },
     "execution_count": 211,
     "metadata": {},
     "output_type": "execute_result"
    }
   ],
   "source": [
    "len(continuos)"
   ]
  },
  {
   "cell_type": "code",
   "execution_count": 212,
   "metadata": {},
   "outputs": [
    {
     "data": {
      "text/html": [
       "<div>\n",
       "<style scoped>\n",
       "    .dataframe tbody tr th:only-of-type {\n",
       "        vertical-align: middle;\n",
       "    }\n",
       "\n",
       "    .dataframe tbody tr th {\n",
       "        vertical-align: top;\n",
       "    }\n",
       "\n",
       "    .dataframe thead th {\n",
       "        text-align: right;\n",
       "    }\n",
       "</style>\n",
       "<table border=\"1\" class=\"dataframe\">\n",
       "  <thead>\n",
       "    <tr style=\"text-align: right;\">\n",
       "      <th></th>\n",
       "      <th>LotFrontage</th>\n",
       "      <th>LotArea</th>\n",
       "      <th>YearBuilt</th>\n",
       "      <th>YearRemodAdd</th>\n",
       "      <th>MasVnrArea</th>\n",
       "      <th>BsmtFinSF1</th>\n",
       "      <th>BsmtFinSF2</th>\n",
       "      <th>BsmtUnfSF</th>\n",
       "      <th>TotalBsmtSF</th>\n",
       "      <th>1stFlrSF</th>\n",
       "      <th>...</th>\n",
       "      <th>LowQualFinSF</th>\n",
       "      <th>GrLivArea</th>\n",
       "      <th>GarageYrBlt</th>\n",
       "      <th>GarageArea</th>\n",
       "      <th>WoodDeckSF</th>\n",
       "      <th>OpenPorchSF</th>\n",
       "      <th>EnclosedPorch</th>\n",
       "      <th>3SsnPorch</th>\n",
       "      <th>ScreenPorch</th>\n",
       "      <th>MiscVal</th>\n",
       "    </tr>\n",
       "  </thead>\n",
       "  <tbody>\n",
       "    <tr>\n",
       "      <th>618</th>\n",
       "      <td>244774.580000</td>\n",
       "      <td>215854.852814</td>\n",
       "      <td>254712.211111</td>\n",
       "      <td>231942.797101</td>\n",
       "      <td>234430.248963</td>\n",
       "      <td>162693.417544</td>\n",
       "      <td>181949.470919</td>\n",
       "      <td>283420.571429</td>\n",
       "      <td>271695.020833</td>\n",
       "      <td>325504.423077</td>\n",
       "      <td>...</td>\n",
       "      <td>180556.807198</td>\n",
       "      <td>199700.782235</td>\n",
       "      <td>251948.409639</td>\n",
       "      <td>274927.700000</td>\n",
       "      <td>157482.765625</td>\n",
       "      <td>221545.352423</td>\n",
       "      <td>187096.857573</td>\n",
       "      <td>180269.684896</td>\n",
       "      <td>217936.589286</td>\n",
       "      <td>182034.509821</td>\n",
       "    </tr>\n",
       "    <tr>\n",
       "      <th>870</th>\n",
       "      <td>143409.933333</td>\n",
       "      <td>142922.191142</td>\n",
       "      <td>149604.171756</td>\n",
       "      <td>145548.741497</td>\n",
       "      <td>155275.997147</td>\n",
       "      <td>162693.417544</td>\n",
       "      <td>181949.470919</td>\n",
       "      <td>160164.021505</td>\n",
       "      <td>156267.219925</td>\n",
       "      <td>146426.575406</td>\n",
       "      <td>...</td>\n",
       "      <td>180556.807198</td>\n",
       "      <td>124728.476821</td>\n",
       "      <td>154389.937294</td>\n",
       "      <td>129813.178082</td>\n",
       "      <td>157482.765625</td>\n",
       "      <td>144015.982759</td>\n",
       "      <td>187096.857573</td>\n",
       "      <td>180269.684896</td>\n",
       "      <td>178939.159173</td>\n",
       "      <td>182034.509821</td>\n",
       "    </tr>\n",
       "    <tr>\n",
       "      <th>92</th>\n",
       "      <td>181337.643952</td>\n",
       "      <td>215854.852814</td>\n",
       "      <td>131510.402477</td>\n",
       "      <td>231942.797101</td>\n",
       "      <td>155275.997147</td>\n",
       "      <td>196331.633333</td>\n",
       "      <td>181949.470919</td>\n",
       "      <td>184078.475884</td>\n",
       "      <td>156267.219925</td>\n",
       "      <td>146426.575406</td>\n",
       "      <td>...</td>\n",
       "      <td>180556.807198</td>\n",
       "      <td>124728.476821</td>\n",
       "      <td>138503.159184</td>\n",
       "      <td>176900.146617</td>\n",
       "      <td>157482.765625</td>\n",
       "      <td>144015.982759</td>\n",
       "      <td>142394.476190</td>\n",
       "      <td>180269.684896</td>\n",
       "      <td>178939.159173</td>\n",
       "      <td>182034.509821</td>\n",
       "    </tr>\n",
       "    <tr>\n",
       "      <th>817</th>\n",
       "      <td>181337.643952</td>\n",
       "      <td>215854.852814</td>\n",
       "      <td>224159.198813</td>\n",
       "      <td>201707.040000</td>\n",
       "      <td>187711.507246</td>\n",
       "      <td>269568.187500</td>\n",
       "      <td>181949.470919</td>\n",
       "      <td>184078.475884</td>\n",
       "      <td>240148.982143</td>\n",
       "      <td>229591.006289</td>\n",
       "      <td>...</td>\n",
       "      <td>180556.807198</td>\n",
       "      <td>199700.782235</td>\n",
       "      <td>216624.805930</td>\n",
       "      <td>303610.295455</td>\n",
       "      <td>195914.158228</td>\n",
       "      <td>221545.352423</td>\n",
       "      <td>187096.857573</td>\n",
       "      <td>180269.684896</td>\n",
       "      <td>178939.159173</td>\n",
       "      <td>182034.509821</td>\n",
       "    </tr>\n",
       "    <tr>\n",
       "      <th>302</th>\n",
       "      <td>244774.580000</td>\n",
       "      <td>215854.852814</td>\n",
       "      <td>224159.198813</td>\n",
       "      <td>201707.040000</td>\n",
       "      <td>187711.507246</td>\n",
       "      <td>162693.417544</td>\n",
       "      <td>181949.470919</td>\n",
       "      <td>233388.564103</td>\n",
       "      <td>240148.982143</td>\n",
       "      <td>229591.006289</td>\n",
       "      <td>...</td>\n",
       "      <td>180556.807198</td>\n",
       "      <td>199700.782235</td>\n",
       "      <td>216624.805930</td>\n",
       "      <td>303610.295455</td>\n",
       "      <td>219441.075075</td>\n",
       "      <td>221545.352423</td>\n",
       "      <td>187096.857573</td>\n",
       "      <td>180269.684896</td>\n",
       "      <td>178939.159173</td>\n",
       "      <td>182034.509821</td>\n",
       "    </tr>\n",
       "  </tbody>\n",
       "</table>\n",
       "<p>5 rows × 21 columns</p>\n",
       "</div>"
      ],
      "text/plain": [
       "       LotFrontage        LotArea      YearBuilt   YearRemodAdd  \\\n",
       "618  244774.580000  215854.852814  254712.211111  231942.797101   \n",
       "870  143409.933333  142922.191142  149604.171756  145548.741497   \n",
       "92   181337.643952  215854.852814  131510.402477  231942.797101   \n",
       "817  181337.643952  215854.852814  224159.198813  201707.040000   \n",
       "302  244774.580000  215854.852814  224159.198813  201707.040000   \n",
       "\n",
       "        MasVnrArea     BsmtFinSF1     BsmtFinSF2      BsmtUnfSF  \\\n",
       "618  234430.248963  162693.417544  181949.470919  283420.571429   \n",
       "870  155275.997147  162693.417544  181949.470919  160164.021505   \n",
       "92   155275.997147  196331.633333  181949.470919  184078.475884   \n",
       "817  187711.507246  269568.187500  181949.470919  184078.475884   \n",
       "302  187711.507246  162693.417544  181949.470919  233388.564103   \n",
       "\n",
       "       TotalBsmtSF       1stFlrSF  ...   LowQualFinSF      GrLivArea  \\\n",
       "618  271695.020833  325504.423077  ...  180556.807198  199700.782235   \n",
       "870  156267.219925  146426.575406  ...  180556.807198  124728.476821   \n",
       "92   156267.219925  146426.575406  ...  180556.807198  124728.476821   \n",
       "817  240148.982143  229591.006289  ...  180556.807198  199700.782235   \n",
       "302  240148.982143  229591.006289  ...  180556.807198  199700.782235   \n",
       "\n",
       "       GarageYrBlt     GarageArea     WoodDeckSF    OpenPorchSF  \\\n",
       "618  251948.409639  274927.700000  157482.765625  221545.352423   \n",
       "870  154389.937294  129813.178082  157482.765625  144015.982759   \n",
       "92   138503.159184  176900.146617  157482.765625  144015.982759   \n",
       "817  216624.805930  303610.295455  195914.158228  221545.352423   \n",
       "302  216624.805930  303610.295455  219441.075075  221545.352423   \n",
       "\n",
       "     EnclosedPorch      3SsnPorch    ScreenPorch        MiscVal  \n",
       "618  187096.857573  180269.684896  217936.589286  182034.509821  \n",
       "870  187096.857573  180269.684896  178939.159173  182034.509821  \n",
       "92   142394.476190  180269.684896  178939.159173  182034.509821  \n",
       "817  187096.857573  180269.684896  178939.159173  182034.509821  \n",
       "302  187096.857573  180269.684896  178939.159173  182034.509821  \n",
       "\n",
       "[5 rows x 21 columns]"
      ]
     },
     "execution_count": 212,
     "metadata": {},
     "output_type": "execute_result"
    }
   ],
   "source": [
    "X_train[continuos].head()"
   ]
  },
  {
   "cell_type": "code",
   "execution_count": 213,
   "metadata": {},
   "outputs": [
    {
     "name": "stdout",
     "output_type": "stream",
     "text": [
      "LotFrontage 4\n",
      "LotArea 4\n",
      "YearBuilt 8\n",
      "YearRemodAdd 16\n",
      "MasVnrArea 4\n",
      "BsmtFinSF1 4\n",
      "BsmtFinSF2 4\n",
      "BsmtUnfSF 8\n",
      "TotalBsmtSF 8\n",
      "1stFlrSF 8\n",
      "2ndFlrSF 14\n",
      "LowQualFinSF 2\n",
      "GrLivArea 8\n",
      "GarageYrBlt 8\n",
      "GarageArea 8\n",
      "WoodDeckSF 4\n",
      "OpenPorchSF 4\n",
      "EnclosedPorch 6\n",
      "3SsnPorch 4\n",
      "ScreenPorch 2\n",
      "MiscVal 2\n"
     ]
    }
   ],
   "source": [
    "for var in continuos:\n",
    "    print(var,len(X_train[var].unique()))"
   ]
  },
  {
   "cell_type": "code",
   "execution_count": 214,
   "metadata": {},
   "outputs": [],
   "source": [
    "#Engineering rare labels in categorical and discrete variables \n",
    "def rare_imputation(variable):\n",
    "    # find frequent labels / discrete numbers\n",
    "    temp = X_train.groupby([variable])[variable].count()/np.float(len(X_train))\n",
    "    frequent_cat = [x for x in temp.loc[temp>0.03].index.values]\n",
    "    \n",
    "    X_train[variable] = np.where(X_train[variable].isin(frequent_cat), X_train[variable], 'Rare')\n",
    "    X_test[variable] = np.where(X_test[variable].isin(frequent_cat), X_test[variable], 'Rare')"
   ]
  },
  {
   "cell_type": "code",
   "execution_count": 215,
   "metadata": {},
   "outputs": [
    {
     "name": "stderr",
     "output_type": "stream",
     "text": [
      "C:\\Users\\Dell\\Anaconda3\\lib\\site-packages\\ipykernel_launcher.py:7: SettingWithCopyWarning: \n",
      "A value is trying to be set on a copy of a slice from a DataFrame.\n",
      "Try using .loc[row_indexer,col_indexer] = value instead\n",
      "\n",
      "See the caveats in the documentation: http://pandas.pydata.org/pandas-docs/stable/indexing.html#indexing-view-versus-copy\n",
      "  import sys\n",
      "C:\\Users\\Dell\\Anaconda3\\lib\\site-packages\\ipykernel_launcher.py:8: SettingWithCopyWarning: \n",
      "A value is trying to be set on a copy of a slice from a DataFrame.\n",
      "Try using .loc[row_indexer,col_indexer] = value instead\n",
      "\n",
      "See the caveats in the documentation: http://pandas.pydata.org/pandas-docs/stable/indexing.html#indexing-view-versus-copy\n",
      "  \n"
     ]
    }
   ],
   "source": [
    "\n",
    "# find infrequent labels in categorical variables\n",
    "for var in cata:\n",
    "    rare_imputation(var)\n"
   ]
  },
  {
   "cell_type": "code",
   "execution_count": 216,
   "metadata": {},
   "outputs": [
    {
     "name": "stdout",
     "output_type": "stream",
     "text": [
      "MSZoning RL      0.788527\n",
      "RM      0.148973\n",
      "FV      0.041952\n",
      "Rare    0.020548\n",
      "Name: MSZoning, dtype: float64\n",
      "\n",
      "Street Pave    0.995719\n",
      "Rare    0.004281\n",
      "Name: Street, dtype: float64\n",
      "\n",
      "Alley Missing    0.939212\n",
      "Grvl       0.031678\n",
      "Rare       0.029110\n",
      "Name: Alley, dtype: float64\n",
      "\n",
      "LotShape Reg     0.629281\n",
      "IR1     0.339041\n",
      "Rare    0.031678\n",
      "Name: LotShape, dtype: float64\n",
      "\n",
      "LandContour Lvl     0.902397\n",
      "Rare    0.054795\n",
      "Bnk     0.042808\n",
      "Name: LandContour, dtype: float64\n",
      "\n",
      "Utilities AllPub    0.999144\n",
      "Rare      0.000856\n",
      "Name: Utilities, dtype: float64\n",
      "\n",
      "LotConfig Inside     0.727740\n",
      "Corner     0.175514\n",
      "CulDSac    0.065068\n",
      "FR2        0.030822\n",
      "Rare       0.000856\n",
      "Name: LotConfig, dtype: float64\n",
      "\n",
      "LandSlope Gtl     0.941781\n",
      "Mod     0.047089\n",
      "Rare    0.011130\n",
      "Name: LandSlope, dtype: float64\n",
      "\n",
      "Neighborhood Rare       0.186644\n",
      "NAmes      0.151541\n",
      "CollgCr    0.099315\n",
      "OldTown    0.076199\n",
      "Edwards    0.068493\n",
      "Somerst    0.058219\n",
      "Sawyer     0.055651\n",
      "Gilbert    0.054795\n",
      "NridgHt    0.052226\n",
      "NWAmes     0.047945\n",
      "BrkSide    0.039384\n",
      "SawyerW    0.039384\n",
      "Mitchel    0.035959\n",
      "Crawfor    0.034247\n",
      "Name: Neighborhood, dtype: float64\n",
      "\n",
      "Condition1 Norm     0.870719\n",
      "Rare     0.076199\n",
      "Feedr    0.053082\n",
      "Name: Condition1, dtype: float64\n",
      "\n",
      "Condition2 Norm    0.993151\n",
      "Rare    0.006849\n",
      "Name: Condition2, dtype: float64\n",
      "\n",
      "BldgType 1Fam      0.839897\n",
      "TwnhsE    0.076199\n",
      "Rare      0.051370\n",
      "Duplex    0.032534\n",
      "Name: BldgType, dtype: float64\n",
      "\n",
      "HouseStyle 1Story    0.495719\n",
      "2Story    0.309932\n",
      "1.5Fin    0.105308\n",
      "Rare      0.046233\n",
      "SLvl      0.042808\n",
      "Name: HouseStyle, dtype: float64\n",
      "\n",
      "RoofStyle Gable    0.774829\n",
      "Hip      0.202055\n",
      "Rare     0.023116\n",
      "Name: RoofStyle, dtype: float64\n",
      "\n",
      "RoofMatl CompShg    0.981164\n",
      "Rare       0.018836\n",
      "Name: RoofMatl, dtype: float64\n",
      "\n",
      "Exterior1st VinylSd    0.352740\n",
      "Wd Sdng    0.149829\n",
      "HdBoard    0.146404\n",
      "MetalSd    0.140411\n",
      "Plywood    0.080479\n",
      "Rare       0.051370\n",
      "CemntBd    0.042808\n",
      "BrkFace    0.035959\n",
      "Name: Exterior1st, dtype: float64\n",
      "\n",
      "Exterior2nd VinylSd    0.343322\n",
      "Wd Sdng    0.144692\n",
      "MetalSd    0.136986\n",
      "HdBoard    0.136986\n",
      "Plywood    0.105308\n",
      "Rare       0.089897\n",
      "CmentBd    0.042808\n",
      "Name: Exterior2nd, dtype: float64\n",
      "\n",
      "MasVnrType None       0.600171\n",
      "BrkFace    0.289384\n",
      "Stone      0.095890\n",
      "Rare       0.014555\n",
      "Name: MasVnrType, dtype: float64\n",
      "\n",
      "ExterQual TA      0.624144\n",
      "Gd      0.332192\n",
      "Ex      0.033390\n",
      "Rare    0.010274\n",
      "Name: ExterQual, dtype: float64\n",
      "\n",
      "ExterCond TA      0.877568\n",
      "Gd      0.097603\n",
      "Rare    0.024829\n",
      "Name: ExterCond, dtype: float64\n",
      "\n",
      "Foundation PConc     0.438356\n",
      "CBlock    0.432363\n",
      "BrkTil    0.107021\n",
      "Rare      0.022260\n",
      "Name: Foundation, dtype: float64\n",
      "\n",
      "BsmtQual TA      0.452055\n",
      "Gd      0.419521\n",
      "Ex      0.080479\n",
      "Rare    0.047945\n",
      "Name: BsmtQual, dtype: float64\n",
      "\n",
      "BsmtCond TA      0.895548\n",
      "Gd      0.047089\n",
      "Fa      0.031678\n",
      "Rare    0.025685\n",
      "Name: BsmtCond, dtype: float64\n",
      "\n",
      "BsmtExposure No      0.657534\n",
      "Av      0.148973\n",
      "Gd      0.090753\n",
      "Mn      0.078767\n",
      "Rare    0.023973\n",
      "Name: BsmtExposure, dtype: float64\n",
      "\n",
      "BsmtFinType1 Unf     0.302226\n",
      "GLQ     0.282534\n",
      "ALQ     0.147260\n",
      "BLQ     0.105308\n",
      "Rec     0.090753\n",
      "LwQ     0.047945\n",
      "Rare    0.023973\n",
      "Name: BsmtFinType1, dtype: float64\n",
      "\n",
      "BsmtFinType2 Unf     0.858733\n",
      "Rare    0.071918\n",
      "LwQ     0.035959\n",
      "Rec     0.033390\n",
      "Name: BsmtFinType2, dtype: float64\n",
      "\n",
      "Heating GasA    0.978596\n",
      "Rare    0.021404\n",
      "Name: Heating, dtype: float64\n",
      "\n",
      "HeatingQC Ex      0.505993\n",
      "TA      0.292808\n",
      "Gd      0.167808\n",
      "Fa      0.032534\n",
      "Rare    0.000856\n",
      "Name: HeatingQC, dtype: float64\n",
      "\n",
      "CentralAir Y    0.933219\n",
      "N    0.066781\n",
      "Name: CentralAir, dtype: float64\n",
      "\n",
      "Electrical SBrkr    0.907534\n",
      "FuseA    0.070205\n",
      "Rare     0.022260\n",
      "Name: Electrical, dtype: float64\n",
      "\n",
      "KitchenQual TA      0.510274\n",
      "Gd      0.395548\n",
      "Ex      0.066781\n",
      "Rare    0.027397\n",
      "Name: KitchenQual, dtype: float64\n",
      "\n",
      "Functional Typ     0.931507\n",
      "Rare    0.068493\n",
      "Name: Functional, dtype: float64\n",
      "\n",
      "FireplaceQu Missing    0.471747\n",
      "Gd         0.252568\n",
      "TA         0.220034\n",
      "Rare       0.055651\n",
      "Name: FireplaceQu, dtype: float64\n",
      "\n",
      "GarageType Attchd     0.595890\n",
      "Detchd     0.269692\n",
      "BuiltIn    0.063356\n",
      "Missing    0.049658\n",
      "Rare       0.021404\n",
      "Name: GarageType, dtype: float64\n",
      "\n",
      "GarageFinish Unf        0.417808\n",
      "RFn        0.288527\n",
      "Fin        0.244007\n",
      "Missing    0.049658\n",
      "Name: GarageFinish, dtype: float64\n",
      "\n",
      "GarageQual TA         0.903253\n",
      "Missing    0.049658\n",
      "Fa         0.034247\n",
      "Rare       0.012842\n",
      "Name: GarageQual, dtype: float64\n",
      "\n",
      "GarageCond TA         0.910103\n",
      "Missing    0.049658\n",
      "Rare       0.040240\n",
      "Name: GarageCond, dtype: float64\n",
      "\n",
      "PavedDrive Y       0.913527\n",
      "N       0.067637\n",
      "Rare    0.018836\n",
      "Name: PavedDrive, dtype: float64\n",
      "\n",
      "PoolQC Missing    0.996575\n",
      "Rare       0.003425\n",
      "Name: PoolQC, dtype: float64\n",
      "\n",
      "Fence Missing    0.816781\n",
      "MnPrv      0.096747\n",
      "GdPrv      0.043664\n",
      "GdWo       0.036815\n",
      "Rare       0.005993\n",
      "Name: Fence, dtype: float64\n",
      "\n",
      "MiscFeature Missing    0.958048\n",
      "Shed       0.038527\n",
      "Rare       0.003425\n",
      "Name: MiscFeature, dtype: float64\n",
      "\n",
      "SaleType WD      0.872432\n",
      "New     0.082192\n",
      "Rare    0.045377\n",
      "Name: SaleType, dtype: float64\n",
      "\n",
      "SaleCondition Normal     0.829623\n",
      "Partial    0.083904\n",
      "Abnorml    0.067637\n",
      "Rare       0.018836\n",
      "Name: SaleCondition, dtype: float64\n",
      "\n"
     ]
    }
   ],
   "source": [
    "# let's check that it worked\n",
    "for var in cata:\n",
    "    print(var, X_train[var].value_counts()/np.float(len(X_train)))\n",
    "    print()"
   ]
  },
  {
   "cell_type": "code",
   "execution_count": 217,
   "metadata": {},
   "outputs": [
    {
     "name": "stderr",
     "output_type": "stream",
     "text": [
      "C:\\Users\\Dell\\Anaconda3\\lib\\site-packages\\ipykernel_launcher.py:7: SettingWithCopyWarning: \n",
      "A value is trying to be set on a copy of a slice from a DataFrame.\n",
      "Try using .loc[row_indexer,col_indexer] = value instead\n",
      "\n",
      "See the caveats in the documentation: http://pandas.pydata.org/pandas-docs/stable/indexing.html#indexing-view-versus-copy\n",
      "  import sys\n",
      "C:\\Users\\Dell\\Anaconda3\\lib\\site-packages\\ipykernel_launcher.py:8: SettingWithCopyWarning: \n",
      "A value is trying to be set on a copy of a slice from a DataFrame.\n",
      "Try using .loc[row_indexer,col_indexer] = value instead\n",
      "\n",
      "See the caveats in the documentation: http://pandas.pydata.org/pandas-docs/stable/indexing.html#indexing-view-versus-copy\n",
      "  \n"
     ]
    }
   ],
   "source": [
    "#Encode categorical and discrete variables \n",
    "def encode_categorical_variables(var, target):\n",
    "        # make label to price dictionary\n",
    "        ordered_labels = X_train.groupby([var])[target].mean().to_dict()\n",
    "        \n",
    "        # encode variables\n",
    "        X_train[var] = X_train[var].map(ordered_labels)\n",
    "        X_test[var] = X_test[var].map(ordered_labels)\n",
    "       \n",
    "\n",
    "# encode labels in categorical vars\n",
    "for var in cata:\n",
    "    encode_categorical_variables(var, 'SalePrice')\n",
    "    \n",
    "# encode labels in discrete vars\n",
    "for var in discrete:\n",
    "    encode_categorical_variables(var, 'SalePrice')"
   ]
  },
  {
   "cell_type": "code",
   "execution_count": 227,
   "metadata": {},
   "outputs": [
    {
     "data": {
      "text/html": [
       "<div>\n",
       "<style scoped>\n",
       "    .dataframe tbody tr th:only-of-type {\n",
       "        vertical-align: middle;\n",
       "    }\n",
       "\n",
       "    .dataframe tbody tr th {\n",
       "        vertical-align: top;\n",
       "    }\n",
       "\n",
       "    .dataframe thead th {\n",
       "        text-align: right;\n",
       "    }\n",
       "</style>\n",
       "<table border=\"1\" class=\"dataframe\">\n",
       "  <thead>\n",
       "    <tr style=\"text-align: right;\">\n",
       "      <th></th>\n",
       "      <th>Id</th>\n",
       "      <th>MSSubClass</th>\n",
       "      <th>MSZoning</th>\n",
       "      <th>LotFrontage</th>\n",
       "      <th>LotArea</th>\n",
       "      <th>Street</th>\n",
       "      <th>Alley</th>\n",
       "      <th>LotShape</th>\n",
       "      <th>LandContour</th>\n",
       "      <th>Utilities</th>\n",
       "      <th>...</th>\n",
       "      <th>Fence</th>\n",
       "      <th>MiscFeature</th>\n",
       "      <th>MiscVal</th>\n",
       "      <th>MoSold</th>\n",
       "      <th>YrSold</th>\n",
       "      <th>SaleType</th>\n",
       "      <th>SaleCondition</th>\n",
       "      <th>SalePrice</th>\n",
       "      <th>LotFrontage_NA</th>\n",
       "      <th>GarageYrBlt_NA</th>\n",
       "    </tr>\n",
       "  </thead>\n",
       "  <tbody>\n",
       "    <tr>\n",
       "      <th>618</th>\n",
       "      <td>619</td>\n",
       "      <td>184802.941860</td>\n",
       "      <td>191112.542888</td>\n",
       "      <td>244774.580000</td>\n",
       "      <td>215854.852814</td>\n",
       "      <td>181009.158212</td>\n",
       "      <td>183253.524157</td>\n",
       "      <td>164502.708844</td>\n",
       "      <td>180625.987666</td>\n",
       "      <td>180846.010283</td>\n",
       "      <td>...</td>\n",
       "      <td>187571.216981</td>\n",
       "      <td>182078.329759</td>\n",
       "      <td>182034.509821</td>\n",
       "      <td>183938.518519</td>\n",
       "      <td>187530.407692</td>\n",
       "      <td>280094.270833</td>\n",
       "      <td>278236.510204</td>\n",
       "      <td>314813</td>\n",
       "      <td>0</td>\n",
       "      <td>0</td>\n",
       "    </tr>\n",
       "    <tr>\n",
       "      <th>870</th>\n",
       "      <td>871</td>\n",
       "      <td>184802.941860</td>\n",
       "      <td>191112.542888</td>\n",
       "      <td>143409.933333</td>\n",
       "      <td>142922.191142</td>\n",
       "      <td>181009.158212</td>\n",
       "      <td>183253.524157</td>\n",
       "      <td>164502.708844</td>\n",
       "      <td>180625.987666</td>\n",
       "      <td>180846.010283</td>\n",
       "      <td>...</td>\n",
       "      <td>187571.216981</td>\n",
       "      <td>182078.329759</td>\n",
       "      <td>182034.509821</td>\n",
       "      <td>185801.122222</td>\n",
       "      <td>177176.490421</td>\n",
       "      <td>172945.844946</td>\n",
       "      <td>174634.731682</td>\n",
       "      <td>109500</td>\n",
       "      <td>0</td>\n",
       "      <td>0</td>\n",
       "    </tr>\n",
       "    <tr>\n",
       "      <th>92</th>\n",
       "      <td>93</td>\n",
       "      <td>96493.392857</td>\n",
       "      <td>191112.542888</td>\n",
       "      <td>181337.643952</td>\n",
       "      <td>215854.852814</td>\n",
       "      <td>181009.158212</td>\n",
       "      <td>121154.162162</td>\n",
       "      <td>205860.732323</td>\n",
       "      <td>214412.765625</td>\n",
       "      <td>180846.010283</td>\n",
       "      <td>...</td>\n",
       "      <td>187571.216981</td>\n",
       "      <td>182078.329759</td>\n",
       "      <td>182034.509821</td>\n",
       "      <td>185801.122222</td>\n",
       "      <td>177176.490421</td>\n",
       "      <td>172945.844946</td>\n",
       "      <td>174634.731682</td>\n",
       "      <td>163500</td>\n",
       "      <td>0</td>\n",
       "      <td>0</td>\n",
       "    </tr>\n",
       "    <tr>\n",
       "      <th>817</th>\n",
       "      <td>818</td>\n",
       "      <td>184802.941860</td>\n",
       "      <td>191112.542888</td>\n",
       "      <td>181337.643952</td>\n",
       "      <td>215854.852814</td>\n",
       "      <td>181009.158212</td>\n",
       "      <td>183253.524157</td>\n",
       "      <td>205860.732323</td>\n",
       "      <td>180625.987666</td>\n",
       "      <td>180846.010283</td>\n",
       "      <td>...</td>\n",
       "      <td>187571.216981</td>\n",
       "      <td>182078.329759</td>\n",
       "      <td>182034.509821</td>\n",
       "      <td>183938.518519</td>\n",
       "      <td>179548.348178</td>\n",
       "      <td>172945.844946</td>\n",
       "      <td>174634.731682</td>\n",
       "      <td>271000</td>\n",
       "      <td>1</td>\n",
       "      <td>0</td>\n",
       "    </tr>\n",
       "    <tr>\n",
       "      <th>302</th>\n",
       "      <td>303</td>\n",
       "      <td>184802.941860</td>\n",
       "      <td>191112.542888</td>\n",
       "      <td>244774.580000</td>\n",
       "      <td>215854.852814</td>\n",
       "      <td>181009.158212</td>\n",
       "      <td>183253.524157</td>\n",
       "      <td>205860.732323</td>\n",
       "      <td>180625.987666</td>\n",
       "      <td>180846.010283</td>\n",
       "      <td>...</td>\n",
       "      <td>187571.216981</td>\n",
       "      <td>182078.329759</td>\n",
       "      <td>182034.509821</td>\n",
       "      <td>185865.387755</td>\n",
       "      <td>182698.573123</td>\n",
       "      <td>172945.844946</td>\n",
       "      <td>174634.731682</td>\n",
       "      <td>205000</td>\n",
       "      <td>0</td>\n",
       "      <td>0</td>\n",
       "    </tr>\n",
       "  </tbody>\n",
       "</table>\n",
       "<p>5 rows × 83 columns</p>\n",
       "</div>"
      ],
      "text/plain": [
       "      Id     MSSubClass       MSZoning    LotFrontage        LotArea  \\\n",
       "618  619  184802.941860  191112.542888  244774.580000  215854.852814   \n",
       "870  871  184802.941860  191112.542888  143409.933333  142922.191142   \n",
       "92    93   96493.392857  191112.542888  181337.643952  215854.852814   \n",
       "817  818  184802.941860  191112.542888  181337.643952  215854.852814   \n",
       "302  303  184802.941860  191112.542888  244774.580000  215854.852814   \n",
       "\n",
       "            Street          Alley       LotShape    LandContour  \\\n",
       "618  181009.158212  183253.524157  164502.708844  180625.987666   \n",
       "870  181009.158212  183253.524157  164502.708844  180625.987666   \n",
       "92   181009.158212  121154.162162  205860.732323  214412.765625   \n",
       "817  181009.158212  183253.524157  205860.732323  180625.987666   \n",
       "302  181009.158212  183253.524157  205860.732323  180625.987666   \n",
       "\n",
       "         Utilities  ...          Fence    MiscFeature        MiscVal  \\\n",
       "618  180846.010283  ...  187571.216981  182078.329759  182034.509821   \n",
       "870  180846.010283  ...  187571.216981  182078.329759  182034.509821   \n",
       "92   180846.010283  ...  187571.216981  182078.329759  182034.509821   \n",
       "817  180846.010283  ...  187571.216981  182078.329759  182034.509821   \n",
       "302  180846.010283  ...  187571.216981  182078.329759  182034.509821   \n",
       "\n",
       "            MoSold         YrSold       SaleType  SaleCondition  SalePrice  \\\n",
       "618  183938.518519  187530.407692  280094.270833  278236.510204     314813   \n",
       "870  185801.122222  177176.490421  172945.844946  174634.731682     109500   \n",
       "92   185801.122222  177176.490421  172945.844946  174634.731682     163500   \n",
       "817  183938.518519  179548.348178  172945.844946  174634.731682     271000   \n",
       "302  185865.387755  182698.573123  172945.844946  174634.731682     205000   \n",
       "\n",
       "     LotFrontage_NA  GarageYrBlt_NA  \n",
       "618               0               0  \n",
       "870               0               0  \n",
       "92                0               0  \n",
       "817               1               0  \n",
       "302               0               0  \n",
       "\n",
       "[5 rows x 83 columns]"
      ]
     },
     "execution_count": 227,
     "metadata": {},
     "output_type": "execute_result"
    }
   ],
   "source": [
    "X_train.head()"
   ]
  },
  {
   "cell_type": "markdown",
   "metadata": {},
   "source": [
    "We can see that the labels have now been replaced by the mean house price.\n",
    "\n"
   ]
  },
  {
   "cell_type": "code",
   "execution_count": 228,
   "metadata": {},
   "outputs": [
    {
     "data": {
      "text/html": [
       "<div>\n",
       "<style scoped>\n",
       "    .dataframe tbody tr th:only-of-type {\n",
       "        vertical-align: middle;\n",
       "    }\n",
       "\n",
       "    .dataframe tbody tr th {\n",
       "        vertical-align: top;\n",
       "    }\n",
       "\n",
       "    .dataframe thead th {\n",
       "        text-align: right;\n",
       "    }\n",
       "</style>\n",
       "<table border=\"1\" class=\"dataframe\">\n",
       "  <thead>\n",
       "    <tr style=\"text-align: right;\">\n",
       "      <th></th>\n",
       "      <th>Id</th>\n",
       "      <th>MSSubClass</th>\n",
       "      <th>MSZoning</th>\n",
       "      <th>LotFrontage</th>\n",
       "      <th>LotArea</th>\n",
       "      <th>Street</th>\n",
       "      <th>Alley</th>\n",
       "      <th>LotShape</th>\n",
       "      <th>LandContour</th>\n",
       "      <th>Utilities</th>\n",
       "      <th>...</th>\n",
       "      <th>Fence</th>\n",
       "      <th>MiscFeature</th>\n",
       "      <th>MiscVal</th>\n",
       "      <th>MoSold</th>\n",
       "      <th>YrSold</th>\n",
       "      <th>SaleType</th>\n",
       "      <th>SaleCondition</th>\n",
       "      <th>SalePrice</th>\n",
       "      <th>LotFrontage_NA</th>\n",
       "      <th>GarageYrBlt_NA</th>\n",
       "    </tr>\n",
       "  </thead>\n",
       "  <tbody>\n",
       "    <tr>\n",
       "      <th>count</th>\n",
       "      <td>1168.000000</td>\n",
       "      <td>1168.000000</td>\n",
       "      <td>1168.000000</td>\n",
       "      <td>1168.000000</td>\n",
       "      <td>1168.000000</td>\n",
       "      <td>1168.000000</td>\n",
       "      <td>1168.000000</td>\n",
       "      <td>1168.000000</td>\n",
       "      <td>1168.000000</td>\n",
       "      <td>1168.000000</td>\n",
       "      <td>...</td>\n",
       "      <td>1168.000000</td>\n",
       "      <td>1168.000000</td>\n",
       "      <td>1168.000000</td>\n",
       "      <td>1168.000000</td>\n",
       "      <td>1168.000000</td>\n",
       "      <td>1168.000000</td>\n",
       "      <td>1168.000000</td>\n",
       "      <td>1168.000000</td>\n",
       "      <td>1168.000000</td>\n",
       "      <td>1168.000000</td>\n",
       "    </tr>\n",
       "    <tr>\n",
       "      <th>mean</th>\n",
       "      <td>738.685788</td>\n",
       "      <td>180808.898973</td>\n",
       "      <td>180808.898973</td>\n",
       "      <td>180808.898973</td>\n",
       "      <td>180808.898973</td>\n",
       "      <td>180808.898973</td>\n",
       "      <td>180808.898973</td>\n",
       "      <td>180808.898973</td>\n",
       "      <td>180808.898973</td>\n",
       "      <td>180808.898973</td>\n",
       "      <td>...</td>\n",
       "      <td>180808.898973</td>\n",
       "      <td>180808.898973</td>\n",
       "      <td>180808.898973</td>\n",
       "      <td>180808.898973</td>\n",
       "      <td>180808.898973</td>\n",
       "      <td>180808.898973</td>\n",
       "      <td>180808.898973</td>\n",
       "      <td>180808.898973</td>\n",
       "      <td>0.181507</td>\n",
       "      <td>0.049658</td>\n",
       "    </tr>\n",
       "    <tr>\n",
       "      <th>std</th>\n",
       "      <td>421.609683</td>\n",
       "      <td>39401.016054</td>\n",
       "      <td>25720.477372</td>\n",
       "      <td>33736.046396</td>\n",
       "      <td>37115.680039</td>\n",
       "      <td>3055.507893</td>\n",
       "      <td>11140.998208</td>\n",
       "      <td>21889.220846</td>\n",
       "      <td>11298.306442</td>\n",
       "      <td>1268.316692</td>\n",
       "      <td>...</td>\n",
       "      <td>16127.286579</td>\n",
       "      <td>6184.091203</td>\n",
       "      <td>5922.798839</td>\n",
       "      <td>7697.828418</td>\n",
       "      <td>4423.740972</td>\n",
       "      <td>30036.572861</td>\n",
       "      <td>30678.760855</td>\n",
       "      <td>78499.911304</td>\n",
       "      <td>0.385603</td>\n",
       "      <td>0.217329</td>\n",
       "    </tr>\n",
       "    <tr>\n",
       "      <th>min</th>\n",
       "      <td>1.000000</td>\n",
       "      <td>96493.392857</td>\n",
       "      <td>107592.250000</td>\n",
       "      <td>143409.933333</td>\n",
       "      <td>142922.191142</td>\n",
       "      <td>134228.600000</td>\n",
       "      <td>121154.162162</td>\n",
       "      <td>164502.708844</td>\n",
       "      <td>141651.720000</td>\n",
       "      <td>137500.000000</td>\n",
       "      <td>...</td>\n",
       "      <td>137735.714286</td>\n",
       "      <td>132375.000000</td>\n",
       "      <td>152211.312500</td>\n",
       "      <td>171289.927536</td>\n",
       "      <td>174235.666667</td>\n",
       "      <td>152149.584906</td>\n",
       "      <td>141668.848101</td>\n",
       "      <td>34900.000000</td>\n",
       "      <td>0.000000</td>\n",
       "      <td>0.000000</td>\n",
       "    </tr>\n",
       "    <tr>\n",
       "      <th>25%</th>\n",
       "      <td>373.750000</td>\n",
       "      <td>142492.417391</td>\n",
       "      <td>191112.542888</td>\n",
       "      <td>143409.933333</td>\n",
       "      <td>142922.191142</td>\n",
       "      <td>181009.158212</td>\n",
       "      <td>183253.524157</td>\n",
       "      <td>164502.708844</td>\n",
       "      <td>180625.987666</td>\n",
       "      <td>180846.010283</td>\n",
       "      <td>...</td>\n",
       "      <td>187571.216981</td>\n",
       "      <td>182078.329759</td>\n",
       "      <td>182034.509821</td>\n",
       "      <td>172689.617647</td>\n",
       "      <td>177176.490421</td>\n",
       "      <td>172945.844946</td>\n",
       "      <td>174634.731682</td>\n",
       "      <td>130000.000000</td>\n",
       "      <td>0.000000</td>\n",
       "      <td>0.000000</td>\n",
       "    </tr>\n",
       "    <tr>\n",
       "      <th>50%</th>\n",
       "      <td>749.500000</td>\n",
       "      <td>184802.941860</td>\n",
       "      <td>191112.542888</td>\n",
       "      <td>181337.643952</td>\n",
       "      <td>176590.069705</td>\n",
       "      <td>181009.158212</td>\n",
       "      <td>183253.524157</td>\n",
       "      <td>164502.708844</td>\n",
       "      <td>180625.987666</td>\n",
       "      <td>180846.010283</td>\n",
       "      <td>...</td>\n",
       "      <td>187571.216981</td>\n",
       "      <td>182078.329759</td>\n",
       "      <td>182034.509821</td>\n",
       "      <td>177840.066667</td>\n",
       "      <td>179548.348178</td>\n",
       "      <td>172945.844946</td>\n",
       "      <td>174634.731682</td>\n",
       "      <td>163000.000000</td>\n",
       "      <td>0.000000</td>\n",
       "      <td>0.000000</td>\n",
       "    </tr>\n",
       "    <tr>\n",
       "      <th>75%</th>\n",
       "      <td>1108.750000</td>\n",
       "      <td>195744.558824</td>\n",
       "      <td>191112.542888</td>\n",
       "      <td>181337.643952</td>\n",
       "      <td>215854.852814</td>\n",
       "      <td>181009.158212</td>\n",
       "      <td>183253.524157</td>\n",
       "      <td>205860.732323</td>\n",
       "      <td>180625.987666</td>\n",
       "      <td>180846.010283</td>\n",
       "      <td>...</td>\n",
       "      <td>187571.216981</td>\n",
       "      <td>182078.329759</td>\n",
       "      <td>182034.509821</td>\n",
       "      <td>185865.387755</td>\n",
       "      <td>182698.573123</td>\n",
       "      <td>172945.844946</td>\n",
       "      <td>174634.731682</td>\n",
       "      <td>215000.000000</td>\n",
       "      <td>0.000000</td>\n",
       "      <td>0.000000</td>\n",
       "    </tr>\n",
       "    <tr>\n",
       "      <th>max</th>\n",
       "      <td>1460.000000</td>\n",
       "      <td>239938.773663</td>\n",
       "      <td>212604.693878</td>\n",
       "      <td>244774.580000</td>\n",
       "      <td>252893.385185</td>\n",
       "      <td>181009.158212</td>\n",
       "      <td>183253.524157</td>\n",
       "      <td>236606.837838</td>\n",
       "      <td>214412.765625</td>\n",
       "      <td>180846.010283</td>\n",
       "      <td>...</td>\n",
       "      <td>187571.216981</td>\n",
       "      <td>182078.329759</td>\n",
       "      <td>182034.509821</td>\n",
       "      <td>199738.489796</td>\n",
       "      <td>187530.407692</td>\n",
       "      <td>280094.270833</td>\n",
       "      <td>278236.510204</td>\n",
       "      <td>755000.000000</td>\n",
       "      <td>1.000000</td>\n",
       "      <td>1.000000</td>\n",
       "    </tr>\n",
       "  </tbody>\n",
       "</table>\n",
       "<p>8 rows × 83 columns</p>\n",
       "</div>"
      ],
      "text/plain": [
       "                Id     MSSubClass       MSZoning    LotFrontage  \\\n",
       "count  1168.000000    1168.000000    1168.000000    1168.000000   \n",
       "mean    738.685788  180808.898973  180808.898973  180808.898973   \n",
       "std     421.609683   39401.016054   25720.477372   33736.046396   \n",
       "min       1.000000   96493.392857  107592.250000  143409.933333   \n",
       "25%     373.750000  142492.417391  191112.542888  143409.933333   \n",
       "50%     749.500000  184802.941860  191112.542888  181337.643952   \n",
       "75%    1108.750000  195744.558824  191112.542888  181337.643952   \n",
       "max    1460.000000  239938.773663  212604.693878  244774.580000   \n",
       "\n",
       "             LotArea         Street          Alley       LotShape  \\\n",
       "count    1168.000000    1168.000000    1168.000000    1168.000000   \n",
       "mean   180808.898973  180808.898973  180808.898973  180808.898973   \n",
       "std     37115.680039    3055.507893   11140.998208   21889.220846   \n",
       "min    142922.191142  134228.600000  121154.162162  164502.708844   \n",
       "25%    142922.191142  181009.158212  183253.524157  164502.708844   \n",
       "50%    176590.069705  181009.158212  183253.524157  164502.708844   \n",
       "75%    215854.852814  181009.158212  183253.524157  205860.732323   \n",
       "max    252893.385185  181009.158212  183253.524157  236606.837838   \n",
       "\n",
       "         LandContour      Utilities  ...          Fence    MiscFeature  \\\n",
       "count    1168.000000    1168.000000  ...    1168.000000    1168.000000   \n",
       "mean   180808.898973  180808.898973  ...  180808.898973  180808.898973   \n",
       "std     11298.306442    1268.316692  ...   16127.286579    6184.091203   \n",
       "min    141651.720000  137500.000000  ...  137735.714286  132375.000000   \n",
       "25%    180625.987666  180846.010283  ...  187571.216981  182078.329759   \n",
       "50%    180625.987666  180846.010283  ...  187571.216981  182078.329759   \n",
       "75%    180625.987666  180846.010283  ...  187571.216981  182078.329759   \n",
       "max    214412.765625  180846.010283  ...  187571.216981  182078.329759   \n",
       "\n",
       "             MiscVal         MoSold         YrSold       SaleType  \\\n",
       "count    1168.000000    1168.000000    1168.000000    1168.000000   \n",
       "mean   180808.898973  180808.898973  180808.898973  180808.898973   \n",
       "std      5922.798839    7697.828418    4423.740972   30036.572861   \n",
       "min    152211.312500  171289.927536  174235.666667  152149.584906   \n",
       "25%    182034.509821  172689.617647  177176.490421  172945.844946   \n",
       "50%    182034.509821  177840.066667  179548.348178  172945.844946   \n",
       "75%    182034.509821  185865.387755  182698.573123  172945.844946   \n",
       "max    182034.509821  199738.489796  187530.407692  280094.270833   \n",
       "\n",
       "       SaleCondition      SalePrice  LotFrontage_NA  GarageYrBlt_NA  \n",
       "count    1168.000000    1168.000000     1168.000000     1168.000000  \n",
       "mean   180808.898973  180808.898973        0.181507        0.049658  \n",
       "std     30678.760855   78499.911304        0.385603        0.217329  \n",
       "min    141668.848101   34900.000000        0.000000        0.000000  \n",
       "25%    174634.731682  130000.000000        0.000000        0.000000  \n",
       "50%    174634.731682  163000.000000        0.000000        0.000000  \n",
       "75%    174634.731682  215000.000000        0.000000        0.000000  \n",
       "max    278236.510204  755000.000000        1.000000        1.000000  \n",
       "\n",
       "[8 rows x 83 columns]"
      ]
     },
     "execution_count": 228,
     "metadata": {},
     "output_type": "execute_result"
    }
   ],
   "source": [
    "#Feature scaling \n",
    "X_train.describe()"
   ]
  },
  {
   "cell_type": "code",
   "execution_count": 229,
   "metadata": {},
   "outputs": [],
   "source": [
    "training_vars = [var for var in X_train.columns if var not in ['Id', 'SalePrice']]\n"
   ]
  },
  {
   "cell_type": "code",
   "execution_count": 230,
   "metadata": {},
   "outputs": [
    {
     "data": {
      "text/plain": [
       "StandardScaler(copy=True, with_mean=True, with_std=True)"
      ]
     },
     "execution_count": 230,
     "metadata": {},
     "output_type": "execute_result"
    }
   ],
   "source": [
    "# fit scaler\n",
    "from sklearn.preprocessing import StandardScaler\n",
    "\n",
    "scaler = StandardScaler() # create an instance\n",
    "scaler.fit(X_train[training_vars]) #  fit  the scaler to the train set for later use"
   ]
  },
  {
   "cell_type": "code",
   "execution_count": 231,
   "metadata": {},
   "outputs": [],
   "source": [
    "#Machine learning algoritham.\n",
    "from sklearn.metrics import roc_auc_score\n",
    "from sklearn import metrics\n"
   ]
  },
  {
   "cell_type": "code",
   "execution_count": 232,
   "metadata": {},
   "outputs": [
    {
     "name": "stderr",
     "output_type": "stream",
     "text": [
      "C:\\Users\\Dell\\Anaconda3\\lib\\site-packages\\xgboost\\core.py:587: FutureWarning: Series.base is deprecated and will be removed in a future version\n",
      "  if getattr(data, 'base', None) is not None and \\\n"
     ]
    },
    {
     "name": "stdout",
     "output_type": "stream",
     "text": [
      "[01:57:30] WARNING: src/objective/regression_obj.cu:152: reg:linear is now deprecated in favor of reg:squarederror.\n",
      "xgb train mse: 234946100.19141355\n",
      "xgb test mse: 730570493.5737113\n"
     ]
    }
   ],
   "source": [
    "import xgboost as xgb\n",
    "from sklearn.metrics import mean_squared_error\n",
    "xgb_model = xgb.XGBRegressor()\n",
    "\n",
    "eval_set = [(X_test[training_vars], y_test)]\n",
    "xgb_model.fit(X_train[training_vars], y_train, eval_set=eval_set, verbose=False)\n",
    "\n",
    "pred = xgb_model.predict(X_train[training_vars])\n",
    "print('xgb train mse: {}'.format(mean_squared_error(y_train, pred)))\n",
    "pred = xgb_model.predict(X_test[training_vars])\n",
    "print('xgb test mse: {}'.format(mean_squared_error(y_test, pred)))"
   ]
  },
  {
   "cell_type": "code",
   "execution_count": 233,
   "metadata": {},
   "outputs": [
    {
     "name": "stderr",
     "output_type": "stream",
     "text": [
      "C:\\Users\\Dell\\Anaconda3\\lib\\site-packages\\pandas\\core\\generic.py:6130: SettingWithCopyWarning: \n",
      "A value is trying to be set on a copy of a slice from a DataFrame\n",
      "\n",
      "See the caveats in the documentation: http://pandas.pydata.org/pandas-docs/stable/indexing.html#indexing-view-versus-copy\n",
      "  self._update_inplace(new_data)\n"
     ]
    }
   ],
   "source": [
    "import xgboost as xgb\n",
    "from xgboost import XGBClassifier\n",
    "X_test['PoolArea'].fillna(X_test[var].median(), inplace=True) \n"
   ]
  },
  {
   "cell_type": "code",
   "execution_count": 234,
   "metadata": {
    "scrolled": true
   },
   "outputs": [
    {
     "name": "stderr",
     "output_type": "stream",
     "text": [
      "C:\\Users\\Dell\\Anaconda3\\lib\\site-packages\\sklearn\\ensemble\\forest.py:245: FutureWarning: The default value of n_estimators will change from 10 in version 0.20 to 100 in 0.22.\n",
      "  \"10 in version 0.20 to 100 in 0.22.\", FutureWarning)\n"
     ]
    },
    {
     "name": "stdout",
     "output_type": "stream",
     "text": [
      "rf train mse: 169019790.05301374\n",
      "rf test mse: 1112017612.59911\n"
     ]
    }
   ],
   "source": [
    "#random forest\n",
    "from sklearn.ensemble import RandomForestRegressor\n",
    "\n",
    "rf_model = RandomForestRegressor()\n",
    "rf_model.fit(X_train[training_vars], y_train)\n",
    "\n",
    "pred = rf_model.predict(X_train[training_vars])\n",
    "print('rf train mse: {}'.format(mean_squared_error(y_train, pred)))\n",
    "pred = rf_model.predict(X_test[training_vars])\n",
    "print('rf test mse: {}'.format(mean_squared_error(y_test, pred)))"
   ]
  },
  {
   "cell_type": "code",
   "execution_count": 235,
   "metadata": {},
   "outputs": [
    {
     "name": "stderr",
     "output_type": "stream",
     "text": [
      "C:\\Users\\Dell\\Anaconda3\\lib\\site-packages\\sklearn\\ensemble\\forest.py:245: FutureWarning: The default value of n_estimators will change from 10 in version 0.20 to 100 in 0.22.\n",
      "  \"10 in version 0.20 to 100 in 0.22.\", FutureWarning)\n"
     ]
    },
    {
     "name": "stdout",
     "output_type": "stream",
     "text": [
      "rf train mse: 170091839.09320205\n",
      "rf test mse: 1408663049.5382874\n"
     ]
    }
   ],
   "source": [
    "rf_model = RandomForestRegressor()\n",
    "rf_model.fit(X_train[training_vars], y_train)\n",
    "\n",
    "pred = rf_model.predict(X_train[training_vars])\n",
    "print('rf train mse: {}'.format(mean_squared_error(y_train, pred)))\n",
    "pred = rf_model.predict(X_test[training_vars])\n",
    "print('rf test mse: {}'.format(mean_squared_error(y_test, pred)))"
   ]
  },
  {
   "cell_type": "code",
   "execution_count": 236,
   "metadata": {},
   "outputs": [
    {
     "name": "stderr",
     "output_type": "stream",
     "text": [
      "C:\\Users\\Dell\\Anaconda3\\lib\\site-packages\\sklearn\\ensemble\\forest.py:245: FutureWarning: The default value of n_estimators will change from 10 in version 0.20 to 100 in 0.22.\n",
      "  \"10 in version 0.20 to 100 in 0.22.\", FutureWarning)\n"
     ]
    },
    {
     "name": "stdout",
     "output_type": "stream",
     "text": [
      "rf train mse: 165053874.51659247\n",
      "rf test mse: 1006001370.4759932\n"
     ]
    }
   ],
   "source": [
    "rf_model = RandomForestRegressor()\n",
    "rf_model.fit(X_train[training_vars], y_train)\n",
    "\n",
    "pred = rf_model.predict(X_train[training_vars])\n",
    "print('rf train mse: {}'.format(mean_squared_error(y_train, pred)))\n",
    "pred = rf_model.predict(X_test[training_vars])\n",
    "print('rf test mse: {}'.format(mean_squared_error(y_test, pred)))"
   ]
  },
  {
   "cell_type": "code",
   "execution_count": 240,
   "metadata": {},
   "outputs": [
    {
     "name": "stdout",
     "output_type": "stream",
     "text": [
      "SVR train mse: 6467104202.850991\n",
      "SVR test mse: 7236889249.982256\n"
     ]
    }
   ],
   "source": [
    "#support vector machine\n",
    "from sklearn.svm import SVR\n",
    "\n",
    "from sklearn.metrics import mean_squared_error\n",
    "\n",
    "SVR_model = SVR()\n",
    "SVR_model.fit(scaler.transform(X_train[training_vars]), y_train)\n",
    "\n",
    "pred = SVR_model.predict(scaler.transform(X_train[training_vars]))\n",
    "print('SVR train mse: {}'.format(mean_squared_error(y_train, pred)))\n",
    "pred = SVR_model.predict(scaler.transform(X_test[training_vars]))\n",
    "print('SVR test mse: {}'.format(mean_squared_error(y_test, pred)))"
   ]
  },
  {
   "cell_type": "code",
   "execution_count": null,
   "metadata": {},
   "outputs": [],
   "source": []
  }
 ],
 "metadata": {
  "kernelspec": {
   "display_name": "Python 3",
   "language": "python",
   "name": "python3"
  },
  "language_info": {
   "codemirror_mode": {
    "name": "ipython",
    "version": 3
   },
   "file_extension": ".py",
   "mimetype": "text/x-python",
   "name": "python",
   "nbconvert_exporter": "python",
   "pygments_lexer": "ipython3",
   "version": "3.7.3"
  }
 },
 "nbformat": 4,
 "nbformat_minor": 2
}
